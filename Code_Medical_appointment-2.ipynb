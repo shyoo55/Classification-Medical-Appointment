{
  "cells": [
    {
      "cell_type": "markdown",
      "metadata": {
        "id": "0qfX8SLfmU79"
      },
      "source": [
        "# **MEDICAL APPOINTMENT NO SHOWS**\n",
        "By (Shaikha Bin Ateeq & Alanoud Alosaimi)"
      ],
      "id": "0qfX8SLfmU79"
    },
    {
      "cell_type": "markdown",
      "metadata": {
        "id": "4gAtZKcmm_8u"
      },
      "source": [
        "## Table of Contents\n",
        "<ul>\n",
        "<li><a href=\"#intro\">Introduction</a></li>\n",
        "<li><a href=\"#dd\">Data Description</a></li>\n",
        "<li><a href=\"#cp\">Cleaning And Preprocessing</a></li>\n",
        "<li><a href=\"#fe\">Feature Engineering</a></li>\n",
        "<li><a href=\"#gd\">Get Dummies</a></li>\n",
        "<li><a href=\"#eda\">Exploratory Data Analysis</a></li>\n",
        "\n",
        "<li><a href=\"#ho\">Handle Outliers</a></li>\n",
        "<li><a href=\"#sd\">Split The Data</a></li>\n",
        "<li><a href=\"#rd\">Resampling The Data</a></li>\n",
        "<li><a href=\"#sd1\">Scaling The Data</a></li>\n",
        "<li><a href=\"#b\">Basline model</a></li>\n",
        "<li><a href=\"#lr\">1.Logistic Regression</a></li>\n",
        "\n",
        "<li><a href=\"#knn\">2.K-Nearest Neighbors</a></li>\n",
        "<li><a href=\"#dt\">3.Decision Tree</a></li>\n",
        "<li><a href=\"#et\">4.Extra Trees</a></li>\n",
        "<li><a href=\"#rf\">5.Random Forest</a></li>\n",
        "<li><a href=\"#svm\">6.Support Vector Machine</a></li>\n",
        "<li><a href=\"#nb\">7.Naive Bayes (Gaussian)</a></li>\n",
        "\n",
        "<li><a href=\"#nbm\">8.Naive Bayes (MultinomialNB)</a></li>\n",
        "<li><a href=\"#xg\">9.XGBoost</a></li>\n",
        "<li><a href=\"#gs\">Grid Search</a></li>\n",
        "<li><a href=\"#gs1\">XGBoost (Hyper Parameter Tuning)</a></li>\n",
        "<li><a href=\"#fff\">Final Model Testing</a></li>\n",
        "</ul>"
      ],
      "id": "4gAtZKcmm_8u"
    },
    {
      "cell_type": "markdown",
      "metadata": {
        "id": "tBy4xD3tmi2w"
      },
      "source": [
        "<a id='intro'></a>\n",
        "# **Introduction**\n",
        "\n",
        "\n",
        "One of the problems that medical clinics face is when a person books an appointment but does not show up. Every appointment that is not attended deprives another patient of the opportunity to benefit from it.\n",
        "In this project, we will predict whether the patient will show or not, the aim is to help clinics in Brazil know if the clinic or the patient is responsible for this problem and understand the causes that led to it.\n",
        "\n"
      ],
      "id": "tBy4xD3tmi2w"
    },
    {
      "cell_type": "markdown",
      "metadata": {
        "id": "0UQYxl0HnJfN"
      },
      "source": [
        "<a id='dd'></a>\n",
        "# **Data Description**\n",
        "\n",
        "\n",
        "The dataset collects information on more than 100k medical appointments in Brazil and 14 features which are:\n",
        "\n",
        "*   PatientId: Identification of a patient.\n",
        "\n",
        "*   AppointmentID: Identification of each appointment.\n",
        "\n",
        "*   Gender: Male or Female.\n",
        "\n",
        "*  ScheduledDay: The day someone called or registered the appointment\n",
        "\n",
        "* AppointmentDay: The day of the actual appointment, when they have to visit the doctor.\n",
        "\n",
        "* Age: Indicates the age of the patient.\n",
        "\n",
        "* Neighborhood: Indicates the place of the appointment.\n",
        "\n",
        "* Scholarship: Indicates whether the patient is enrolled in the Brasilian welfare program.\n",
        "\n",
        "* Hipertension: True or False\n",
        "\n",
        "* Diabetes: True or False\n",
        "\n",
        "* Alcoholism: True or False\n",
        "* Handcap: True or False\n",
        "* SMS_received: Indicate if the patients have received SMS massage before their appointment.\n",
        "\n",
        "* No-show: Indicates ‘No’ if the patient showed up to their appointment, and ‘Yes’ if they did not show up."
      ],
      "id": "0UQYxl0HnJfN"
    },
    {
      "cell_type": "markdown",
      "metadata": {
        "id": "ac9c8e47"
      },
      "source": [
        " **Imports**\n"
      ],
      "id": "ac9c8e47"
    },
    {
      "cell_type": "code",
      "execution_count": null,
      "metadata": {
        "colab": {
          "base_uri": "https://localhost:8080/"
        },
        "id": "united-lincoln",
        "outputId": "e210241c-5b41-449f-e9e4-3c3be336afdd"
      },
      "outputs": [
        {
          "output_type": "stream",
          "name": "stdout",
          "text": [
            "Requirement already satisfied: imblearn in /usr/local/lib/python3.7/dist-packages (0.0)\n",
            "Requirement already satisfied: imbalanced-learn in /usr/local/lib/python3.7/dist-packages (from imblearn) (0.8.1)\n",
            "Requirement already satisfied: scikit-learn>=0.24 in /usr/local/lib/python3.7/dist-packages (from imbalanced-learn->imblearn) (1.0.1)\n",
            "Requirement already satisfied: scipy>=0.19.1 in /usr/local/lib/python3.7/dist-packages (from imbalanced-learn->imblearn) (1.4.1)\n",
            "Requirement already satisfied: joblib>=0.11 in /usr/local/lib/python3.7/dist-packages (from imbalanced-learn->imblearn) (1.1.0)\n",
            "Requirement already satisfied: numpy>=1.13.3 in /usr/local/lib/python3.7/dist-packages (from imbalanced-learn->imblearn) (1.19.5)\n",
            "Requirement already satisfied: threadpoolctl>=2.0.0 in /usr/local/lib/python3.7/dist-packages (from scikit-learn>=0.24->imbalanced-learn->imblearn) (3.0.0)\n"
          ]
        }
      ],
      "source": [
        "pip install imblearn"
      ],
      "id": "united-lincoln"
    },
    {
      "cell_type": "code",
      "execution_count": null,
      "metadata": {
        "id": "89793df7"
      },
      "outputs": [],
      "source": [
        "import pandas as pd \n",
        "import seaborn as sns\n",
        "import matplotlib as plt\n",
        "import matplotlib.pyplot as plt\n",
        "import numpy as np\n",
        "from sklearn.linear_model import LogisticRegression\n",
        "from sklearn.model_selection import train_test_split\n",
        "from sklearn.model_selection import GridSearchCV\n",
        "from sklearn.preprocessing import StandardScaler\n",
        "from datetime import datetime, timedelta,date\n",
        "import calendar\n",
        "import imblearn.over_sampling\n",
        "from sklearn.metrics import classification_report\n",
        "from sklearn import metrics\n",
        "from sklearn.neighbors import KNeighborsClassifier\n",
        "from sklearn.tree import DecisionTreeClassifier\n",
        "from sklearn.ensemble import RandomForestClassifier, ExtraTreesClassifier\n",
        "from sklearn.naive_bayes import BernoulliNB, MultinomialNB, GaussianNB\n",
        "from sklearn.svm import SVC\n",
        "import xgboost as xgb"
      ],
      "id": "89793df7"
    },
    {
      "cell_type": "markdown",
      "metadata": {
        "id": "190aa9fd"
      },
      "source": [
        "**Read Dataset**"
      ],
      "id": "190aa9fd"
    },
    {
      "cell_type": "code",
      "execution_count": null,
      "metadata": {
        "id": "5dbf58e6"
      },
      "outputs": [],
      "source": [
        "df=pd.read_csv('Dataset_Medical_Appointment.csv')"
      ],
      "id": "5dbf58e6"
    },
    {
      "cell_type": "code",
      "execution_count": null,
      "metadata": {
        "colab": {
          "base_uri": "https://localhost:8080/",
          "height": 374
        },
        "id": "d101e2a5",
        "outputId": "82233e72-d090-43ab-9a36-22f67cb765e4",
        "scrolled": true
      },
      "outputs": [
        {
          "output_type": "execute_result",
          "data": {
            "text/html": [
              "\n",
              "  <div id=\"df-1bfdc644-6c5a-4f0b-addc-26af47d5e8d2\">\n",
              "    <div class=\"colab-df-container\">\n",
              "      <div>\n",
              "<style scoped>\n",
              "    .dataframe tbody tr th:only-of-type {\n",
              "        vertical-align: middle;\n",
              "    }\n",
              "\n",
              "    .dataframe tbody tr th {\n",
              "        vertical-align: top;\n",
              "    }\n",
              "\n",
              "    .dataframe thead th {\n",
              "        text-align: right;\n",
              "    }\n",
              "</style>\n",
              "<table border=\"1\" class=\"dataframe\">\n",
              "  <thead>\n",
              "    <tr style=\"text-align: right;\">\n",
              "      <th></th>\n",
              "      <th>PatientId</th>\n",
              "      <th>AppointmentID</th>\n",
              "      <th>Gender</th>\n",
              "      <th>ScheduledDay</th>\n",
              "      <th>AppointmentDay</th>\n",
              "      <th>Age</th>\n",
              "      <th>Neighbourhood</th>\n",
              "      <th>Scholarship</th>\n",
              "      <th>Hipertension</th>\n",
              "      <th>Diabetes</th>\n",
              "      <th>Alcoholism</th>\n",
              "      <th>Handcap</th>\n",
              "      <th>SMS_received</th>\n",
              "      <th>No-show</th>\n",
              "    </tr>\n",
              "  </thead>\n",
              "  <tbody>\n",
              "    <tr>\n",
              "      <th>0</th>\n",
              "      <td>2.987250e+13</td>\n",
              "      <td>5642903</td>\n",
              "      <td>F</td>\n",
              "      <td>2016-04-29T18:38:08Z</td>\n",
              "      <td>2016-04-29T00:00:00Z</td>\n",
              "      <td>62</td>\n",
              "      <td>JARDIM DA PENHA</td>\n",
              "      <td>0</td>\n",
              "      <td>1</td>\n",
              "      <td>0</td>\n",
              "      <td>0</td>\n",
              "      <td>0</td>\n",
              "      <td>0</td>\n",
              "      <td>No</td>\n",
              "    </tr>\n",
              "    <tr>\n",
              "      <th>1</th>\n",
              "      <td>5.589978e+14</td>\n",
              "      <td>5642503</td>\n",
              "      <td>M</td>\n",
              "      <td>2016-04-29T16:08:27Z</td>\n",
              "      <td>2016-04-29T00:00:00Z</td>\n",
              "      <td>56</td>\n",
              "      <td>JARDIM DA PENHA</td>\n",
              "      <td>0</td>\n",
              "      <td>0</td>\n",
              "      <td>0</td>\n",
              "      <td>0</td>\n",
              "      <td>0</td>\n",
              "      <td>0</td>\n",
              "      <td>No</td>\n",
              "    </tr>\n",
              "    <tr>\n",
              "      <th>2</th>\n",
              "      <td>4.262962e+12</td>\n",
              "      <td>5642549</td>\n",
              "      <td>F</td>\n",
              "      <td>2016-04-29T16:19:04Z</td>\n",
              "      <td>2016-04-29T00:00:00Z</td>\n",
              "      <td>62</td>\n",
              "      <td>MATA DA PRAIA</td>\n",
              "      <td>0</td>\n",
              "      <td>0</td>\n",
              "      <td>0</td>\n",
              "      <td>0</td>\n",
              "      <td>0</td>\n",
              "      <td>0</td>\n",
              "      <td>No</td>\n",
              "    </tr>\n",
              "    <tr>\n",
              "      <th>3</th>\n",
              "      <td>8.679512e+11</td>\n",
              "      <td>5642828</td>\n",
              "      <td>F</td>\n",
              "      <td>2016-04-29T17:29:31Z</td>\n",
              "      <td>2016-04-29T00:00:00Z</td>\n",
              "      <td>8</td>\n",
              "      <td>PONTAL DE CAMBURI</td>\n",
              "      <td>0</td>\n",
              "      <td>0</td>\n",
              "      <td>0</td>\n",
              "      <td>0</td>\n",
              "      <td>0</td>\n",
              "      <td>0</td>\n",
              "      <td>No</td>\n",
              "    </tr>\n",
              "    <tr>\n",
              "      <th>4</th>\n",
              "      <td>8.841186e+12</td>\n",
              "      <td>5642494</td>\n",
              "      <td>F</td>\n",
              "      <td>2016-04-29T16:07:23Z</td>\n",
              "      <td>2016-04-29T00:00:00Z</td>\n",
              "      <td>56</td>\n",
              "      <td>JARDIM DA PENHA</td>\n",
              "      <td>0</td>\n",
              "      <td>1</td>\n",
              "      <td>1</td>\n",
              "      <td>0</td>\n",
              "      <td>0</td>\n",
              "      <td>0</td>\n",
              "      <td>No</td>\n",
              "    </tr>\n",
              "  </tbody>\n",
              "</table>\n",
              "</div>\n",
              "      <button class=\"colab-df-convert\" onclick=\"convertToInteractive('df-1bfdc644-6c5a-4f0b-addc-26af47d5e8d2')\"\n",
              "              title=\"Convert this dataframe to an interactive table.\"\n",
              "              style=\"display:none;\">\n",
              "        \n",
              "  <svg xmlns=\"http://www.w3.org/2000/svg\" height=\"24px\"viewBox=\"0 0 24 24\"\n",
              "       width=\"24px\">\n",
              "    <path d=\"M0 0h24v24H0V0z\" fill=\"none\"/>\n",
              "    <path d=\"M18.56 5.44l.94 2.06.94-2.06 2.06-.94-2.06-.94-.94-2.06-.94 2.06-2.06.94zm-11 1L8.5 8.5l.94-2.06 2.06-.94-2.06-.94L8.5 2.5l-.94 2.06-2.06.94zm10 10l.94 2.06.94-2.06 2.06-.94-2.06-.94-.94-2.06-.94 2.06-2.06.94z\"/><path d=\"M17.41 7.96l-1.37-1.37c-.4-.4-.92-.59-1.43-.59-.52 0-1.04.2-1.43.59L10.3 9.45l-7.72 7.72c-.78.78-.78 2.05 0 2.83L4 21.41c.39.39.9.59 1.41.59.51 0 1.02-.2 1.41-.59l7.78-7.78 2.81-2.81c.8-.78.8-2.07 0-2.86zM5.41 20L4 18.59l7.72-7.72 1.47 1.35L5.41 20z\"/>\n",
              "  </svg>\n",
              "      </button>\n",
              "      \n",
              "  <style>\n",
              "    .colab-df-container {\n",
              "      display:flex;\n",
              "      flex-wrap:wrap;\n",
              "      gap: 12px;\n",
              "    }\n",
              "\n",
              "    .colab-df-convert {\n",
              "      background-color: #E8F0FE;\n",
              "      border: none;\n",
              "      border-radius: 50%;\n",
              "      cursor: pointer;\n",
              "      display: none;\n",
              "      fill: #1967D2;\n",
              "      height: 32px;\n",
              "      padding: 0 0 0 0;\n",
              "      width: 32px;\n",
              "    }\n",
              "\n",
              "    .colab-df-convert:hover {\n",
              "      background-color: #E2EBFA;\n",
              "      box-shadow: 0px 1px 2px rgba(60, 64, 67, 0.3), 0px 1px 3px 1px rgba(60, 64, 67, 0.15);\n",
              "      fill: #174EA6;\n",
              "    }\n",
              "\n",
              "    [theme=dark] .colab-df-convert {\n",
              "      background-color: #3B4455;\n",
              "      fill: #D2E3FC;\n",
              "    }\n",
              "\n",
              "    [theme=dark] .colab-df-convert:hover {\n",
              "      background-color: #434B5C;\n",
              "      box-shadow: 0px 1px 3px 1px rgba(0, 0, 0, 0.15);\n",
              "      filter: drop-shadow(0px 1px 2px rgba(0, 0, 0, 0.3));\n",
              "      fill: #FFFFFF;\n",
              "    }\n",
              "  </style>\n",
              "\n",
              "      <script>\n",
              "        const buttonEl =\n",
              "          document.querySelector('#df-1bfdc644-6c5a-4f0b-addc-26af47d5e8d2 button.colab-df-convert');\n",
              "        buttonEl.style.display =\n",
              "          google.colab.kernel.accessAllowed ? 'block' : 'none';\n",
              "\n",
              "        async function convertToInteractive(key) {\n",
              "          const element = document.querySelector('#df-1bfdc644-6c5a-4f0b-addc-26af47d5e8d2');\n",
              "          const dataTable =\n",
              "            await google.colab.kernel.invokeFunction('convertToInteractive',\n",
              "                                                     [key], {});\n",
              "          if (!dataTable) return;\n",
              "\n",
              "          const docLinkHtml = 'Like what you see? Visit the ' +\n",
              "            '<a target=\"_blank\" href=https://colab.research.google.com/notebooks/data_table.ipynb>data table notebook</a>'\n",
              "            + ' to learn more about interactive tables.';\n",
              "          element.innerHTML = '';\n",
              "          dataTable['output_type'] = 'display_data';\n",
              "          await google.colab.output.renderOutput(dataTable, element);\n",
              "          const docLink = document.createElement('div');\n",
              "          docLink.innerHTML = docLinkHtml;\n",
              "          element.appendChild(docLink);\n",
              "        }\n",
              "      </script>\n",
              "    </div>\n",
              "  </div>\n",
              "  "
            ],
            "text/plain": [
              "      PatientId  AppointmentID Gender  ... Handcap SMS_received  No-show\n",
              "0  2.987250e+13        5642903      F  ...       0            0       No\n",
              "1  5.589978e+14        5642503      M  ...       0            0       No\n",
              "2  4.262962e+12        5642549      F  ...       0            0       No\n",
              "3  8.679512e+11        5642828      F  ...       0            0       No\n",
              "4  8.841186e+12        5642494      F  ...       0            0       No\n",
              "\n",
              "[5 rows x 14 columns]"
            ]
          },
          "metadata": {},
          "execution_count": 4
        }
      ],
      "source": [
        "df.head()"
      ],
      "id": "d101e2a5"
    },
    {
      "cell_type": "markdown",
      "metadata": {
        "id": "QEMwvMNln-yz"
      },
      "source": [
        "**Explore The Dataset**"
      ],
      "id": "QEMwvMNln-yz"
    },
    {
      "cell_type": "code",
      "execution_count": null,
      "metadata": {
        "colab": {
          "base_uri": "https://localhost:8080/"
        },
        "id": "rWI1CNlRw7S7",
        "outputId": "ae8e7919-b5b0-41a4-940b-8ad5c7c0c8f4"
      },
      "outputs": [
        {
          "output_type": "execute_result",
          "data": {
            "text/plain": [
              "(110527, 14)"
            ]
          },
          "metadata": {},
          "execution_count": 5
        }
      ],
      "source": [
        "df.shape"
      ],
      "id": "rWI1CNlRw7S7"
    },
    {
      "cell_type": "code",
      "execution_count": null,
      "metadata": {
        "colab": {
          "base_uri": "https://localhost:8080/"
        },
        "id": "ZHx3jftIvFlC",
        "outputId": "8f6dddbb-e74c-4996-cbd7-367247a6e345"
      },
      "outputs": [
        {
          "output_type": "stream",
          "name": "stdout",
          "text": [
            "<class 'pandas.core.frame.DataFrame'>\n",
            "RangeIndex: 110527 entries, 0 to 110526\n",
            "Data columns (total 14 columns):\n",
            " #   Column          Non-Null Count   Dtype  \n",
            "---  ------          --------------   -----  \n",
            " 0   PatientId       110527 non-null  float64\n",
            " 1   AppointmentID   110527 non-null  int64  \n",
            " 2   Gender          110527 non-null  object \n",
            " 3   ScheduledDay    110527 non-null  object \n",
            " 4   AppointmentDay  110527 non-null  object \n",
            " 5   Age             110527 non-null  int64  \n",
            " 6   Neighbourhood   110527 non-null  object \n",
            " 7   Scholarship     110527 non-null  int64  \n",
            " 8   Hipertension    110527 non-null  int64  \n",
            " 9   Diabetes        110527 non-null  int64  \n",
            " 10  Alcoholism      110527 non-null  int64  \n",
            " 11  Handcap         110527 non-null  int64  \n",
            " 12  SMS_received    110527 non-null  int64  \n",
            " 13  No-show         110527 non-null  object \n",
            "dtypes: float64(1), int64(8), object(5)\n",
            "memory usage: 11.8+ MB\n"
          ]
        }
      ],
      "source": [
        "df.info()"
      ],
      "id": "ZHx3jftIvFlC"
    },
    {
      "cell_type": "code",
      "execution_count": null,
      "metadata": {
        "colab": {
          "base_uri": "https://localhost:8080/",
          "height": 364
        },
        "id": "0dR0eqmfvUvq",
        "outputId": "d46c6800-31b3-4af6-e932-05ba93b24bd9"
      },
      "outputs": [
        {
          "output_type": "execute_result",
          "data": {
            "text/html": [
              "\n",
              "  <div id=\"df-d86f7f14-1ccc-4f14-bf10-09577510f83f\">\n",
              "    <div class=\"colab-df-container\">\n",
              "      <div>\n",
              "<style scoped>\n",
              "    .dataframe tbody tr th:only-of-type {\n",
              "        vertical-align: middle;\n",
              "    }\n",
              "\n",
              "    .dataframe tbody tr th {\n",
              "        vertical-align: top;\n",
              "    }\n",
              "\n",
              "    .dataframe thead th {\n",
              "        text-align: right;\n",
              "    }\n",
              "</style>\n",
              "<table border=\"1\" class=\"dataframe\">\n",
              "  <thead>\n",
              "    <tr style=\"text-align: right;\">\n",
              "      <th></th>\n",
              "      <th>PatientId</th>\n",
              "      <th>AppointmentID</th>\n",
              "      <th>Age</th>\n",
              "      <th>Scholarship</th>\n",
              "      <th>Hipertension</th>\n",
              "      <th>Diabetes</th>\n",
              "      <th>Alcoholism</th>\n",
              "      <th>Handcap</th>\n",
              "      <th>SMS_received</th>\n",
              "    </tr>\n",
              "  </thead>\n",
              "  <tbody>\n",
              "    <tr>\n",
              "      <th>count</th>\n",
              "      <td>1.105270e+05</td>\n",
              "      <td>1.105270e+05</td>\n",
              "      <td>110527.000000</td>\n",
              "      <td>110527.000000</td>\n",
              "      <td>110527.000000</td>\n",
              "      <td>110527.000000</td>\n",
              "      <td>110527.000000</td>\n",
              "      <td>110527.000000</td>\n",
              "      <td>110527.000000</td>\n",
              "    </tr>\n",
              "    <tr>\n",
              "      <th>mean</th>\n",
              "      <td>1.474963e+14</td>\n",
              "      <td>5.675305e+06</td>\n",
              "      <td>37.088874</td>\n",
              "      <td>0.098266</td>\n",
              "      <td>0.197246</td>\n",
              "      <td>0.071865</td>\n",
              "      <td>0.030400</td>\n",
              "      <td>0.022248</td>\n",
              "      <td>0.321026</td>\n",
              "    </tr>\n",
              "    <tr>\n",
              "      <th>std</th>\n",
              "      <td>2.560949e+14</td>\n",
              "      <td>7.129575e+04</td>\n",
              "      <td>23.110205</td>\n",
              "      <td>0.297675</td>\n",
              "      <td>0.397921</td>\n",
              "      <td>0.258265</td>\n",
              "      <td>0.171686</td>\n",
              "      <td>0.161543</td>\n",
              "      <td>0.466873</td>\n",
              "    </tr>\n",
              "    <tr>\n",
              "      <th>min</th>\n",
              "      <td>3.921784e+04</td>\n",
              "      <td>5.030230e+06</td>\n",
              "      <td>-1.000000</td>\n",
              "      <td>0.000000</td>\n",
              "      <td>0.000000</td>\n",
              "      <td>0.000000</td>\n",
              "      <td>0.000000</td>\n",
              "      <td>0.000000</td>\n",
              "      <td>0.000000</td>\n",
              "    </tr>\n",
              "    <tr>\n",
              "      <th>25%</th>\n",
              "      <td>4.172614e+12</td>\n",
              "      <td>5.640286e+06</td>\n",
              "      <td>18.000000</td>\n",
              "      <td>0.000000</td>\n",
              "      <td>0.000000</td>\n",
              "      <td>0.000000</td>\n",
              "      <td>0.000000</td>\n",
              "      <td>0.000000</td>\n",
              "      <td>0.000000</td>\n",
              "    </tr>\n",
              "    <tr>\n",
              "      <th>50%</th>\n",
              "      <td>3.173184e+13</td>\n",
              "      <td>5.680573e+06</td>\n",
              "      <td>37.000000</td>\n",
              "      <td>0.000000</td>\n",
              "      <td>0.000000</td>\n",
              "      <td>0.000000</td>\n",
              "      <td>0.000000</td>\n",
              "      <td>0.000000</td>\n",
              "      <td>0.000000</td>\n",
              "    </tr>\n",
              "    <tr>\n",
              "      <th>75%</th>\n",
              "      <td>9.439172e+13</td>\n",
              "      <td>5.725524e+06</td>\n",
              "      <td>55.000000</td>\n",
              "      <td>0.000000</td>\n",
              "      <td>0.000000</td>\n",
              "      <td>0.000000</td>\n",
              "      <td>0.000000</td>\n",
              "      <td>0.000000</td>\n",
              "      <td>1.000000</td>\n",
              "    </tr>\n",
              "    <tr>\n",
              "      <th>max</th>\n",
              "      <td>9.999816e+14</td>\n",
              "      <td>5.790484e+06</td>\n",
              "      <td>115.000000</td>\n",
              "      <td>1.000000</td>\n",
              "      <td>1.000000</td>\n",
              "      <td>1.000000</td>\n",
              "      <td>1.000000</td>\n",
              "      <td>4.000000</td>\n",
              "      <td>1.000000</td>\n",
              "    </tr>\n",
              "  </tbody>\n",
              "</table>\n",
              "</div>\n",
              "      <button class=\"colab-df-convert\" onclick=\"convertToInteractive('df-d86f7f14-1ccc-4f14-bf10-09577510f83f')\"\n",
              "              title=\"Convert this dataframe to an interactive table.\"\n",
              "              style=\"display:none;\">\n",
              "        \n",
              "  <svg xmlns=\"http://www.w3.org/2000/svg\" height=\"24px\"viewBox=\"0 0 24 24\"\n",
              "       width=\"24px\">\n",
              "    <path d=\"M0 0h24v24H0V0z\" fill=\"none\"/>\n",
              "    <path d=\"M18.56 5.44l.94 2.06.94-2.06 2.06-.94-2.06-.94-.94-2.06-.94 2.06-2.06.94zm-11 1L8.5 8.5l.94-2.06 2.06-.94-2.06-.94L8.5 2.5l-.94 2.06-2.06.94zm10 10l.94 2.06.94-2.06 2.06-.94-2.06-.94-.94-2.06-.94 2.06-2.06.94z\"/><path d=\"M17.41 7.96l-1.37-1.37c-.4-.4-.92-.59-1.43-.59-.52 0-1.04.2-1.43.59L10.3 9.45l-7.72 7.72c-.78.78-.78 2.05 0 2.83L4 21.41c.39.39.9.59 1.41.59.51 0 1.02-.2 1.41-.59l7.78-7.78 2.81-2.81c.8-.78.8-2.07 0-2.86zM5.41 20L4 18.59l7.72-7.72 1.47 1.35L5.41 20z\"/>\n",
              "  </svg>\n",
              "      </button>\n",
              "      \n",
              "  <style>\n",
              "    .colab-df-container {\n",
              "      display:flex;\n",
              "      flex-wrap:wrap;\n",
              "      gap: 12px;\n",
              "    }\n",
              "\n",
              "    .colab-df-convert {\n",
              "      background-color: #E8F0FE;\n",
              "      border: none;\n",
              "      border-radius: 50%;\n",
              "      cursor: pointer;\n",
              "      display: none;\n",
              "      fill: #1967D2;\n",
              "      height: 32px;\n",
              "      padding: 0 0 0 0;\n",
              "      width: 32px;\n",
              "    }\n",
              "\n",
              "    .colab-df-convert:hover {\n",
              "      background-color: #E2EBFA;\n",
              "      box-shadow: 0px 1px 2px rgba(60, 64, 67, 0.3), 0px 1px 3px 1px rgba(60, 64, 67, 0.15);\n",
              "      fill: #174EA6;\n",
              "    }\n",
              "\n",
              "    [theme=dark] .colab-df-convert {\n",
              "      background-color: #3B4455;\n",
              "      fill: #D2E3FC;\n",
              "    }\n",
              "\n",
              "    [theme=dark] .colab-df-convert:hover {\n",
              "      background-color: #434B5C;\n",
              "      box-shadow: 0px 1px 3px 1px rgba(0, 0, 0, 0.15);\n",
              "      filter: drop-shadow(0px 1px 2px rgba(0, 0, 0, 0.3));\n",
              "      fill: #FFFFFF;\n",
              "    }\n",
              "  </style>\n",
              "\n",
              "      <script>\n",
              "        const buttonEl =\n",
              "          document.querySelector('#df-d86f7f14-1ccc-4f14-bf10-09577510f83f button.colab-df-convert');\n",
              "        buttonEl.style.display =\n",
              "          google.colab.kernel.accessAllowed ? 'block' : 'none';\n",
              "\n",
              "        async function convertToInteractive(key) {\n",
              "          const element = document.querySelector('#df-d86f7f14-1ccc-4f14-bf10-09577510f83f');\n",
              "          const dataTable =\n",
              "            await google.colab.kernel.invokeFunction('convertToInteractive',\n",
              "                                                     [key], {});\n",
              "          if (!dataTable) return;\n",
              "\n",
              "          const docLinkHtml = 'Like what you see? Visit the ' +\n",
              "            '<a target=\"_blank\" href=https://colab.research.google.com/notebooks/data_table.ipynb>data table notebook</a>'\n",
              "            + ' to learn more about interactive tables.';\n",
              "          element.innerHTML = '';\n",
              "          dataTable['output_type'] = 'display_data';\n",
              "          await google.colab.output.renderOutput(dataTable, element);\n",
              "          const docLink = document.createElement('div');\n",
              "          docLink.innerHTML = docLinkHtml;\n",
              "          element.appendChild(docLink);\n",
              "        }\n",
              "      </script>\n",
              "    </div>\n",
              "  </div>\n",
              "  "
            ],
            "text/plain": [
              "          PatientId  AppointmentID  ...        Handcap   SMS_received\n",
              "count  1.105270e+05   1.105270e+05  ...  110527.000000  110527.000000\n",
              "mean   1.474963e+14   5.675305e+06  ...       0.022248       0.321026\n",
              "std    2.560949e+14   7.129575e+04  ...       0.161543       0.466873\n",
              "min    3.921784e+04   5.030230e+06  ...       0.000000       0.000000\n",
              "25%    4.172614e+12   5.640286e+06  ...       0.000000       0.000000\n",
              "50%    3.173184e+13   5.680573e+06  ...       0.000000       0.000000\n",
              "75%    9.439172e+13   5.725524e+06  ...       0.000000       1.000000\n",
              "max    9.999816e+14   5.790484e+06  ...       4.000000       1.000000\n",
              "\n",
              "[8 rows x 9 columns]"
            ]
          },
          "metadata": {},
          "execution_count": 7
        }
      ],
      "source": [
        "df.describe()"
      ],
      "id": "0dR0eqmfvUvq"
    },
    {
      "cell_type": "code",
      "execution_count": null,
      "metadata": {
        "colab": {
          "base_uri": "https://localhost:8080/"
        },
        "id": "2NmYwnC-o_9m",
        "outputId": "f37fefce-14e3-439b-f2de-c207269b95ee"
      },
      "outputs": [
        {
          "output_type": "stream",
          "name": "stdout",
          "text": [
            "No     88208\n",
            "Yes    22319\n",
            "Name: No-show, dtype: int64\n"
          ]
        }
      ],
      "source": [
        "print(df['No-show'].value_counts()) # the data imbalanced "
      ],
      "id": "2NmYwnC-o_9m"
    },
    {
      "cell_type": "code",
      "execution_count": null,
      "metadata": {
        "colab": {
          "base_uri": "https://localhost:8080/"
        },
        "id": "Q4uyzDLTVPk_",
        "outputId": "f5d8dd67-9bde-47e6-c397-2de414042989"
      },
      "outputs": [
        {
          "output_type": "stream",
          "name": "stdout",
          "text": [
            "PatientId: 62299\n",
            "AppointmentID: 110527\n",
            "Gender: 2\n",
            "ScheduledDay: 103549\n",
            "AppointmentDay: 27\n",
            "Age: 104\n",
            "Neighbourhood: 81\n",
            "Scholarship: 2\n",
            "Hipertension: 2\n",
            "Diabetes: 2\n",
            "Alcoholism: 2\n",
            "Handcap: 5\n",
            "SMS_received: 2\n",
            "No-show: 2\n"
          ]
        }
      ],
      "source": [
        "for i in df.columns:\n",
        "    print(i+\":\",len(df[i].unique()))"
      ],
      "id": "Q4uyzDLTVPk_"
    },
    {
      "cell_type": "code",
      "execution_count": null,
      "metadata": {
        "colab": {
          "base_uri": "https://localhost:8080/"
        },
        "id": "-d_gN0LnVW9z",
        "outputId": "3f334ccf-d820-4886-944a-2e222fc15474"
      },
      "outputs": [
        {
          "output_type": "execute_result",
          "data": {
            "text/plain": [
              "array([0, 1, 2, 3, 4])"
            ]
          },
          "metadata": {},
          "execution_count": 10
        }
      ],
      "source": [
        "df.Handcap.unique()"
      ],
      "id": "-d_gN0LnVW9z"
    },
    {
      "cell_type": "markdown",
      "metadata": {
        "id": "Pt0rX_hjpLq4"
      },
      "source": [
        "<a id='cp'></a>\n",
        "# **Cleaning And Preprocessing**"
      ],
      "id": "Pt0rX_hjpLq4"
    },
    {
      "cell_type": "code",
      "execution_count": null,
      "metadata": {
        "colab": {
          "base_uri": "https://localhost:8080/"
        },
        "id": "c3uoVlElqsDf",
        "outputId": "85d70639-5a3f-4546-a86c-007a2ad91190"
      },
      "outputs": [
        {
          "output_type": "execute_result",
          "data": {
            "text/plain": [
              "PatientId         0\n",
              "AppointmentID     0\n",
              "Gender            0\n",
              "ScheduledDay      0\n",
              "AppointmentDay    0\n",
              "Age               0\n",
              "Neighbourhood     0\n",
              "Scholarship       0\n",
              "Hipertension      0\n",
              "Diabetes          0\n",
              "Alcoholism        0\n",
              "Handcap           0\n",
              "SMS_received      0\n",
              "No-show           0\n",
              "dtype: int64"
            ]
          },
          "metadata": {},
          "execution_count": 11
        }
      ],
      "source": [
        "df.isnull().sum() "
      ],
      "id": "c3uoVlElqsDf"
    },
    {
      "cell_type": "code",
      "execution_count": null,
      "metadata": {
        "colab": {
          "base_uri": "https://localhost:8080/"
        },
        "id": "6G4gCYKqvaV-",
        "outputId": "faa0954c-37e5-4f2b-d408-0833d441af17"
      },
      "outputs": [
        {
          "output_type": "execute_result",
          "data": {
            "text/plain": [
              "0"
            ]
          },
          "metadata": {},
          "execution_count": 12
        }
      ],
      "source": [
        "df.duplicated().sum()"
      ],
      "id": "6G4gCYKqvaV-"
    },
    {
      "cell_type": "code",
      "execution_count": null,
      "metadata": {
        "colab": {
          "base_uri": "https://localhost:8080/"
        },
        "id": "YeqKA-fYp4JP",
        "outputId": "a13309e7-15f6-4368-a832-0b17fcc63b86"
      },
      "outputs": [
        {
          "output_type": "execute_result",
          "data": {
            "text/plain": [
              "0          29872499824296\n",
              "1         558997776694438\n",
              "2           4262962299951\n",
              "3            867951213174\n",
              "4           8841186448183\n",
              "               ...       \n",
              "110522      2572134369293\n",
              "110523      3596266328735\n",
              "110524     15576631729893\n",
              "110525     92134931435557\n",
              "110526    377511518121127\n",
              "Name: PatientId, Length: 110527, dtype: int64"
            ]
          },
          "metadata": {},
          "execution_count": 13
        }
      ],
      "source": [
        "# replace NO to 0 & YES to 1:the number easy to handle more than string also for gender\n",
        "df[\"No-show\"].replace({\"No\":0, \"Yes\":1}, inplace=True)\n",
        "df['PatientId'].astype('int64')"
      ],
      "id": "YeqKA-fYp4JP"
    },
    {
      "cell_type": "code",
      "execution_count": null,
      "metadata": {
        "colab": {
          "base_uri": "https://localhost:8080/"
        },
        "id": "fSVSvAPeWvAc",
        "outputId": "b9a9ca0b-7a22-486d-d9b3-4f2682801905"
      },
      "outputs": [
        {
          "output_type": "stream",
          "name": "stdout",
          "text": [
            "<class 'pandas.core.frame.DataFrame'>\n",
            "RangeIndex: 110527 entries, 0 to 110526\n",
            "Data columns (total 14 columns):\n",
            " #   Column          Non-Null Count   Dtype  \n",
            "---  ------          --------------   -----  \n",
            " 0   PatientId       110527 non-null  float64\n",
            " 1   AppointmentID   110527 non-null  int64  \n",
            " 2   Gender          110527 non-null  object \n",
            " 3   ScheduledDay    110527 non-null  object \n",
            " 4   AppointmentDay  110527 non-null  object \n",
            " 5   Age             110527 non-null  int64  \n",
            " 6   Neighbourhood   110527 non-null  object \n",
            " 7   Scholarship     110527 non-null  int64  \n",
            " 8   Hipertension    110527 non-null  int64  \n",
            " 9   Diabetes        110527 non-null  int64  \n",
            " 10  Alcoholism      110527 non-null  int64  \n",
            " 11  Handcap         110527 non-null  int64  \n",
            " 12  SMS_received    110527 non-null  int64  \n",
            " 13  No-show         110527 non-null  int64  \n",
            "dtypes: float64(1), int64(9), object(4)\n",
            "memory usage: 11.8+ MB\n"
          ]
        }
      ],
      "source": [
        "df.info()"
      ],
      "id": "fSVSvAPeWvAc"
    },
    {
      "cell_type": "markdown",
      "metadata": {
        "id": "A8ZYewGjqDnx"
      },
      "source": [
        "<a id='fe'></a>\n",
        "# **Feature Engineering**"
      ],
      "id": "A8ZYewGjqDnx"
    },
    {
      "cell_type": "markdown",
      "metadata": {
        "id": "mn8Kbe2iy3tE"
      },
      "source": [
        "**Feature 1:Count how many time the patient was scheduled for an appointments**"
      ],
      "id": "mn8Kbe2iy3tE"
    },
    {
      "cell_type": "code",
      "execution_count": null,
      "metadata": {
        "id": "G3zYF2bcXDfy"
      },
      "outputs": [],
      "source": [
        "df['NumberOfSchedulation'] = df.sort_values(by = ['PatientId','ScheduledDay']).groupby(['PatientId']).cumcount()"
      ],
      "id": "G3zYF2bcXDfy"
    },
    {
      "cell_type": "markdown",
      "metadata": {
        "id": "kPr1VKLTzBYp"
      },
      "source": [
        "**Feature 2: Count a patient probability if he makes a previous no show in his appointment by (count the cumsum of no show divied by the cumsum of  NumberOfSchedulation)**"
      ],
      "id": "kPr1VKLTzBYp"
    },
    {
      "cell_type": "code",
      "execution_count": null,
      "metadata": {
        "id": "-HCTxO4vXDrk"
      },
      "outputs": [],
      "source": [
        "df['NumberOfNoShow'] = (df[df['NumberOfSchedulation'] > 0].sort_values(\n",
        "    ['PatientId', 'ScheduledDay']).groupby(['PatientId'])['No-show'].cumsum() / df[df['NumberOfSchedulation'] > 0]['NumberOfSchedulation'])\n",
        "df['NumberOfNoShow'] = df['NumberOfNoShow'].fillna(0)"
      ],
      "id": "-HCTxO4vXDrk"
    },
    {
      "cell_type": "markdown",
      "metadata": {
        "id": "-5YqA1LkzIu8"
      },
      "source": [
        "**Feature 3: How many time the Patient set for Scheduled for  Appointment but it missed the  Appointment**"
      ],
      "id": "-5YqA1LkzIu8"
    },
    {
      "cell_type": "code",
      "execution_count": null,
      "metadata": {
        "id": "i6AaRAFxo5CH"
      },
      "outputs": [],
      "source": [
        "df['Num_App_Missed'] = df.groupby('PatientId')['No-show'].apply(lambda x: x.cumsum())"
      ],
      "id": "i6AaRAFxo5CH"
    },
    {
      "cell_type": "markdown",
      "metadata": {
        "id": "NDJe6Wn5zTPz"
      },
      "source": [
        "**Feature 4: Convert the Date into datetime object and find the difference between the Scheduled Day and the Appointment Day**"
      ],
      "id": "NDJe6Wn5zTPz"
    },
    {
      "cell_type": "code",
      "execution_count": null,
      "metadata": {
        "id": "CueMERTWtLRH"
      },
      "outputs": [],
      "source": [
        "df['ScheduledDay'] = pd.to_datetime(df['ScheduledDay']).dt.strftime('%Y-%m-%d')\n",
        "df['ScheduledDay'] = pd.to_datetime(df['ScheduledDay'])\n",
        "df['AppointmentDay'] = pd.to_datetime(df['AppointmentDay']).dt.strftime('%Y-%m-%d')\n",
        "df['AppointmentDay'] = pd.to_datetime(df['AppointmentDay'])\n",
        "df['DayDifference'] = (df['AppointmentDay'] - df['ScheduledDay']).dt.days"
      ],
      "id": "CueMERTWtLRH"
    },
    {
      "cell_type": "markdown",
      "metadata": {
        "id": "urm8homIzb3b"
      },
      "source": [
        "**Feature 5: Collect Number of diseases for each patient**"
      ],
      "id": "urm8homIzb3b"
    },
    {
      "cell_type": "code",
      "execution_count": null,
      "metadata": {
        "id": "sJ3u3n2DCrvv"
      },
      "outputs": [],
      "source": [
        "x=[]\n",
        "for i in range(0,len(df)):\n",
        "  d1=df.Hipertension[i].sum()\n",
        "  d2=df.Diabetes[i].sum()\n",
        "  d3=df.Alcoholism[i].sum()\n",
        "  x.append(d1+d2+d3)\n",
        "\n",
        "df['Diseases']=x\n"
      ],
      "id": "sJ3u3n2DCrvv"
    },
    {
      "cell_type": "markdown",
      "metadata": {
        "id": "np3zIgu8zq8f"
      },
      "source": [
        "**Feature 6: Collect Avg of diseases for each patient**"
      ],
      "id": "np3zIgu8zq8f"
    },
    {
      "cell_type": "code",
      "execution_count": null,
      "metadata": {
        "id": "nTohrs0AikJ6"
      },
      "outputs": [],
      "source": [
        "y=[]\n",
        "for i in range(0,len(df)):\n",
        "  d1=df.Hipertension[i].sum()\n",
        "  d2=df.Diabetes[i].sum()\n",
        "  d3=df.Alcoholism[i].sum()\n",
        "  y.append((d1+d2+d3)/3)\n",
        "\n",
        "\n",
        "df['Avg_Diseases']=y"
      ],
      "id": "nTohrs0AikJ6"
    },
    {
      "cell_type": "markdown",
      "metadata": {
        "id": "1nrwUiufz09K"
      },
      "source": [
        "**Feature 7: Gender probability (Female, Male) Multple by number of diseases (The number of diseases per sex)**"
      ],
      "id": "1nrwUiufz09K"
    },
    {
      "cell_type": "code",
      "execution_count": null,
      "metadata": {
        "id": "FZh1JNv5GNZb"
      },
      "outputs": [],
      "source": [
        "female=df.Gender[df['Gender']== 'F'].value_counts()/len(df.Gender)\n",
        "male=df.Gender[df['Gender']== 'M'].value_counts()/len(df.Gender)\n",
        "\n",
        "xx=[]\n",
        "for i in range(0,len(df)):\n",
        "  if df.Gender[i]==1:\n",
        "   y1=float(female)*df['Diseases'][i]\n",
        "   xx.append(y1)\n",
        "  else:\n",
        "    y2=float(male)*df['Diseases'][i]\n",
        "    xx.append(y2)\n",
        "df['GenderRtiePerDiseases']=xx"
      ],
      "id": "FZh1JNv5GNZb"
    },
    {
      "cell_type": "markdown",
      "metadata": {
        "id": "FAshdgzbz9rA"
      },
      "source": [
        "**Feature 8: Collect Scheduleed Day, Month**"
      ],
      "id": "FAshdgzbz9rA"
    },
    {
      "cell_type": "code",
      "execution_count": null,
      "metadata": {
        "id": "BHXL0TrCztfZ"
      },
      "outputs": [],
      "source": [
        "df['ScheduleedDay'] = pd.to_datetime(df['ScheduledDay']).dt.day\n",
        "df['ScheduledMonth'] = pd.to_datetime(df['ScheduledDay']).dt.month"
      ],
      "id": "BHXL0TrCztfZ"
    },
    {
      "cell_type": "code",
      "execution_count": null,
      "metadata": {
        "colab": {
          "base_uri": "https://localhost:8080/",
          "height": 357
        },
        "id": "07fYl85RGCal",
        "outputId": "6bb94e2f-7020-421c-9d0a-0855dc0854e4"
      },
      "outputs": [
        {
          "output_type": "execute_result",
          "data": {
            "text/html": [
              "\n",
              "  <div id=\"df-9a1fe10d-9dff-411e-bd53-3a87443f17e1\">\n",
              "    <div class=\"colab-df-container\">\n",
              "      <div>\n",
              "<style scoped>\n",
              "    .dataframe tbody tr th:only-of-type {\n",
              "        vertical-align: middle;\n",
              "    }\n",
              "\n",
              "    .dataframe tbody tr th {\n",
              "        vertical-align: top;\n",
              "    }\n",
              "\n",
              "    .dataframe thead th {\n",
              "        text-align: right;\n",
              "    }\n",
              "</style>\n",
              "<table border=\"1\" class=\"dataframe\">\n",
              "  <thead>\n",
              "    <tr style=\"text-align: right;\">\n",
              "      <th></th>\n",
              "      <th>PatientId</th>\n",
              "      <th>AppointmentID</th>\n",
              "      <th>Gender</th>\n",
              "      <th>ScheduledDay</th>\n",
              "      <th>AppointmentDay</th>\n",
              "      <th>Age</th>\n",
              "      <th>Neighbourhood</th>\n",
              "      <th>Scholarship</th>\n",
              "      <th>Hipertension</th>\n",
              "      <th>Diabetes</th>\n",
              "      <th>Alcoholism</th>\n",
              "      <th>Handcap</th>\n",
              "      <th>SMS_received</th>\n",
              "      <th>No-show</th>\n",
              "      <th>NumberOfSchedulation</th>\n",
              "      <th>NumberOfNoShow</th>\n",
              "      <th>Num_App_Missed</th>\n",
              "      <th>DayDifference</th>\n",
              "      <th>Diseases</th>\n",
              "      <th>Avg_Diseases</th>\n",
              "      <th>GenderRtiePerDiseases</th>\n",
              "      <th>ScheduleedDay</th>\n",
              "      <th>ScheduledMonth</th>\n",
              "    </tr>\n",
              "  </thead>\n",
              "  <tbody>\n",
              "    <tr>\n",
              "      <th>0</th>\n",
              "      <td>2.987250e+13</td>\n",
              "      <td>5642903</td>\n",
              "      <td>F</td>\n",
              "      <td>2016-04-29</td>\n",
              "      <td>2016-04-29</td>\n",
              "      <td>62</td>\n",
              "      <td>JARDIM DA PENHA</td>\n",
              "      <td>0</td>\n",
              "      <td>1</td>\n",
              "      <td>0</td>\n",
              "      <td>0</td>\n",
              "      <td>0</td>\n",
              "      <td>0</td>\n",
              "      <td>0</td>\n",
              "      <td>1</td>\n",
              "      <td>0.0</td>\n",
              "      <td>0</td>\n",
              "      <td>0</td>\n",
              "      <td>1</td>\n",
              "      <td>0.333333</td>\n",
              "      <td>0.350023</td>\n",
              "      <td>29</td>\n",
              "      <td>4</td>\n",
              "    </tr>\n",
              "    <tr>\n",
              "      <th>1</th>\n",
              "      <td>5.589978e+14</td>\n",
              "      <td>5642503</td>\n",
              "      <td>M</td>\n",
              "      <td>2016-04-29</td>\n",
              "      <td>2016-04-29</td>\n",
              "      <td>56</td>\n",
              "      <td>JARDIM DA PENHA</td>\n",
              "      <td>0</td>\n",
              "      <td>0</td>\n",
              "      <td>0</td>\n",
              "      <td>0</td>\n",
              "      <td>0</td>\n",
              "      <td>0</td>\n",
              "      <td>0</td>\n",
              "      <td>1</td>\n",
              "      <td>0.0</td>\n",
              "      <td>0</td>\n",
              "      <td>0</td>\n",
              "      <td>0</td>\n",
              "      <td>0.000000</td>\n",
              "      <td>0.000000</td>\n",
              "      <td>29</td>\n",
              "      <td>4</td>\n",
              "    </tr>\n",
              "    <tr>\n",
              "      <th>2</th>\n",
              "      <td>4.262962e+12</td>\n",
              "      <td>5642549</td>\n",
              "      <td>F</td>\n",
              "      <td>2016-04-29</td>\n",
              "      <td>2016-04-29</td>\n",
              "      <td>62</td>\n",
              "      <td>MATA DA PRAIA</td>\n",
              "      <td>0</td>\n",
              "      <td>0</td>\n",
              "      <td>0</td>\n",
              "      <td>0</td>\n",
              "      <td>0</td>\n",
              "      <td>0</td>\n",
              "      <td>0</td>\n",
              "      <td>1</td>\n",
              "      <td>0.0</td>\n",
              "      <td>0</td>\n",
              "      <td>0</td>\n",
              "      <td>0</td>\n",
              "      <td>0.000000</td>\n",
              "      <td>0.000000</td>\n",
              "      <td>29</td>\n",
              "      <td>4</td>\n",
              "    </tr>\n",
              "    <tr>\n",
              "      <th>3</th>\n",
              "      <td>8.679512e+11</td>\n",
              "      <td>5642828</td>\n",
              "      <td>F</td>\n",
              "      <td>2016-04-29</td>\n",
              "      <td>2016-04-29</td>\n",
              "      <td>8</td>\n",
              "      <td>PONTAL DE CAMBURI</td>\n",
              "      <td>0</td>\n",
              "      <td>0</td>\n",
              "      <td>0</td>\n",
              "      <td>0</td>\n",
              "      <td>0</td>\n",
              "      <td>0</td>\n",
              "      <td>0</td>\n",
              "      <td>1</td>\n",
              "      <td>0.0</td>\n",
              "      <td>0</td>\n",
              "      <td>0</td>\n",
              "      <td>0</td>\n",
              "      <td>0.000000</td>\n",
              "      <td>0.000000</td>\n",
              "      <td>29</td>\n",
              "      <td>4</td>\n",
              "    </tr>\n",
              "    <tr>\n",
              "      <th>4</th>\n",
              "      <td>8.841186e+12</td>\n",
              "      <td>5642494</td>\n",
              "      <td>F</td>\n",
              "      <td>2016-04-29</td>\n",
              "      <td>2016-04-29</td>\n",
              "      <td>56</td>\n",
              "      <td>JARDIM DA PENHA</td>\n",
              "      <td>0</td>\n",
              "      <td>1</td>\n",
              "      <td>1</td>\n",
              "      <td>0</td>\n",
              "      <td>0</td>\n",
              "      <td>0</td>\n",
              "      <td>0</td>\n",
              "      <td>0</td>\n",
              "      <td>0.0</td>\n",
              "      <td>0</td>\n",
              "      <td>0</td>\n",
              "      <td>2</td>\n",
              "      <td>0.666667</td>\n",
              "      <td>0.700046</td>\n",
              "      <td>29</td>\n",
              "      <td>4</td>\n",
              "    </tr>\n",
              "  </tbody>\n",
              "</table>\n",
              "</div>\n",
              "      <button class=\"colab-df-convert\" onclick=\"convertToInteractive('df-9a1fe10d-9dff-411e-bd53-3a87443f17e1')\"\n",
              "              title=\"Convert this dataframe to an interactive table.\"\n",
              "              style=\"display:none;\">\n",
              "        \n",
              "  <svg xmlns=\"http://www.w3.org/2000/svg\" height=\"24px\"viewBox=\"0 0 24 24\"\n",
              "       width=\"24px\">\n",
              "    <path d=\"M0 0h24v24H0V0z\" fill=\"none\"/>\n",
              "    <path d=\"M18.56 5.44l.94 2.06.94-2.06 2.06-.94-2.06-.94-.94-2.06-.94 2.06-2.06.94zm-11 1L8.5 8.5l.94-2.06 2.06-.94-2.06-.94L8.5 2.5l-.94 2.06-2.06.94zm10 10l.94 2.06.94-2.06 2.06-.94-2.06-.94-.94-2.06-.94 2.06-2.06.94z\"/><path d=\"M17.41 7.96l-1.37-1.37c-.4-.4-.92-.59-1.43-.59-.52 0-1.04.2-1.43.59L10.3 9.45l-7.72 7.72c-.78.78-.78 2.05 0 2.83L4 21.41c.39.39.9.59 1.41.59.51 0 1.02-.2 1.41-.59l7.78-7.78 2.81-2.81c.8-.78.8-2.07 0-2.86zM5.41 20L4 18.59l7.72-7.72 1.47 1.35L5.41 20z\"/>\n",
              "  </svg>\n",
              "      </button>\n",
              "      \n",
              "  <style>\n",
              "    .colab-df-container {\n",
              "      display:flex;\n",
              "      flex-wrap:wrap;\n",
              "      gap: 12px;\n",
              "    }\n",
              "\n",
              "    .colab-df-convert {\n",
              "      background-color: #E8F0FE;\n",
              "      border: none;\n",
              "      border-radius: 50%;\n",
              "      cursor: pointer;\n",
              "      display: none;\n",
              "      fill: #1967D2;\n",
              "      height: 32px;\n",
              "      padding: 0 0 0 0;\n",
              "      width: 32px;\n",
              "    }\n",
              "\n",
              "    .colab-df-convert:hover {\n",
              "      background-color: #E2EBFA;\n",
              "      box-shadow: 0px 1px 2px rgba(60, 64, 67, 0.3), 0px 1px 3px 1px rgba(60, 64, 67, 0.15);\n",
              "      fill: #174EA6;\n",
              "    }\n",
              "\n",
              "    [theme=dark] .colab-df-convert {\n",
              "      background-color: #3B4455;\n",
              "      fill: #D2E3FC;\n",
              "    }\n",
              "\n",
              "    [theme=dark] .colab-df-convert:hover {\n",
              "      background-color: #434B5C;\n",
              "      box-shadow: 0px 1px 3px 1px rgba(0, 0, 0, 0.15);\n",
              "      filter: drop-shadow(0px 1px 2px rgba(0, 0, 0, 0.3));\n",
              "      fill: #FFFFFF;\n",
              "    }\n",
              "  </style>\n",
              "\n",
              "      <script>\n",
              "        const buttonEl =\n",
              "          document.querySelector('#df-9a1fe10d-9dff-411e-bd53-3a87443f17e1 button.colab-df-convert');\n",
              "        buttonEl.style.display =\n",
              "          google.colab.kernel.accessAllowed ? 'block' : 'none';\n",
              "\n",
              "        async function convertToInteractive(key) {\n",
              "          const element = document.querySelector('#df-9a1fe10d-9dff-411e-bd53-3a87443f17e1');\n",
              "          const dataTable =\n",
              "            await google.colab.kernel.invokeFunction('convertToInteractive',\n",
              "                                                     [key], {});\n",
              "          if (!dataTable) return;\n",
              "\n",
              "          const docLinkHtml = 'Like what you see? Visit the ' +\n",
              "            '<a target=\"_blank\" href=https://colab.research.google.com/notebooks/data_table.ipynb>data table notebook</a>'\n",
              "            + ' to learn more about interactive tables.';\n",
              "          element.innerHTML = '';\n",
              "          dataTable['output_type'] = 'display_data';\n",
              "          await google.colab.output.renderOutput(dataTable, element);\n",
              "          const docLink = document.createElement('div');\n",
              "          docLink.innerHTML = docLinkHtml;\n",
              "          element.appendChild(docLink);\n",
              "        }\n",
              "      </script>\n",
              "    </div>\n",
              "  </div>\n",
              "  "
            ],
            "text/plain": [
              "      PatientId  AppointmentID  ... ScheduleedDay ScheduledMonth\n",
              "0  2.987250e+13        5642903  ...            29              4\n",
              "1  5.589978e+14        5642503  ...            29              4\n",
              "2  4.262962e+12        5642549  ...            29              4\n",
              "3  8.679512e+11        5642828  ...            29              4\n",
              "4  8.841186e+12        5642494  ...            29              4\n",
              "\n",
              "[5 rows x 23 columns]"
            ]
          },
          "metadata": {},
          "execution_count": 23
        }
      ],
      "source": [
        "df.head()"
      ],
      "id": "07fYl85RGCal"
    },
    {
      "cell_type": "markdown",
      "metadata": {
        "id": "xeS_sFm2tLZb"
      },
      "source": [
        "<a id='gd'></a>\n",
        "# **Get Dummies**"
      ],
      "id": "xeS_sFm2tLZb"
    },
    {
      "cell_type": "code",
      "execution_count": null,
      "metadata": {
        "id": "6OdfTEmfvDLR"
      },
      "outputs": [],
      "source": [
        "df['Handcap'] = pd.Categorical(df['Handcap'])\n",
        "df=pd.get_dummies(df,columns=['Gender','Handcap'])"
      ],
      "id": "6OdfTEmfvDLR"
    },
    {
      "cell_type": "markdown",
      "metadata": {
        "id": "BAx8mdDj05CZ"
      },
      "source": [
        "**Finally drop unnessery Coulmans**"
      ],
      "id": "BAx8mdDj05CZ"
    },
    {
      "cell_type": "code",
      "execution_count": null,
      "metadata": {
        "id": "Hoz2pqcc_4tD"
      },
      "outputs": [],
      "source": [
        "df.drop(['PatientId','ScheduledDay','AppointmentDay','AppointmentID','Neighbourhood', 'Diseases', 'GenderRtiePerDiseases'], axis=1,inplace = True)\n"
      ],
      "id": "Hoz2pqcc_4tD"
    },
    {
      "cell_type": "code",
      "execution_count": null,
      "metadata": {
        "colab": {
          "base_uri": "https://localhost:8080/",
          "height": 288
        },
        "id": "9iT9D71vA7wd",
        "outputId": "0caa4cb7-0e16-465c-da9b-f86e12f9d3d7"
      },
      "outputs": [
        {
          "output_type": "execute_result",
          "data": {
            "text/html": [
              "\n",
              "  <div id=\"df-c1327628-054b-45ad-b66c-ac6707b2aa0b\">\n",
              "    <div class=\"colab-df-container\">\n",
              "      <div>\n",
              "<style scoped>\n",
              "    .dataframe tbody tr th:only-of-type {\n",
              "        vertical-align: middle;\n",
              "    }\n",
              "\n",
              "    .dataframe tbody tr th {\n",
              "        vertical-align: top;\n",
              "    }\n",
              "\n",
              "    .dataframe thead th {\n",
              "        text-align: right;\n",
              "    }\n",
              "</style>\n",
              "<table border=\"1\" class=\"dataframe\">\n",
              "  <thead>\n",
              "    <tr style=\"text-align: right;\">\n",
              "      <th></th>\n",
              "      <th>Age</th>\n",
              "      <th>Scholarship</th>\n",
              "      <th>Hipertension</th>\n",
              "      <th>Diabetes</th>\n",
              "      <th>Alcoholism</th>\n",
              "      <th>SMS_received</th>\n",
              "      <th>No-show</th>\n",
              "      <th>NumberOfSchedulation</th>\n",
              "      <th>NumberOfNoShow</th>\n",
              "      <th>Num_App_Missed</th>\n",
              "      <th>DayDifference</th>\n",
              "      <th>Avg_Diseases</th>\n",
              "      <th>ScheduleedDay</th>\n",
              "      <th>ScheduledMonth</th>\n",
              "      <th>Gender_F</th>\n",
              "      <th>Gender_M</th>\n",
              "      <th>Handcap_0</th>\n",
              "      <th>Handcap_1</th>\n",
              "      <th>Handcap_2</th>\n",
              "      <th>Handcap_3</th>\n",
              "      <th>Handcap_4</th>\n",
              "    </tr>\n",
              "  </thead>\n",
              "  <tbody>\n",
              "    <tr>\n",
              "      <th>0</th>\n",
              "      <td>62</td>\n",
              "      <td>0</td>\n",
              "      <td>1</td>\n",
              "      <td>0</td>\n",
              "      <td>0</td>\n",
              "      <td>0</td>\n",
              "      <td>0</td>\n",
              "      <td>1</td>\n",
              "      <td>0.0</td>\n",
              "      <td>0</td>\n",
              "      <td>0</td>\n",
              "      <td>0.333333</td>\n",
              "      <td>29</td>\n",
              "      <td>4</td>\n",
              "      <td>1</td>\n",
              "      <td>0</td>\n",
              "      <td>1</td>\n",
              "      <td>0</td>\n",
              "      <td>0</td>\n",
              "      <td>0</td>\n",
              "      <td>0</td>\n",
              "    </tr>\n",
              "    <tr>\n",
              "      <th>1</th>\n",
              "      <td>56</td>\n",
              "      <td>0</td>\n",
              "      <td>0</td>\n",
              "      <td>0</td>\n",
              "      <td>0</td>\n",
              "      <td>0</td>\n",
              "      <td>0</td>\n",
              "      <td>1</td>\n",
              "      <td>0.0</td>\n",
              "      <td>0</td>\n",
              "      <td>0</td>\n",
              "      <td>0.000000</td>\n",
              "      <td>29</td>\n",
              "      <td>4</td>\n",
              "      <td>0</td>\n",
              "      <td>1</td>\n",
              "      <td>1</td>\n",
              "      <td>0</td>\n",
              "      <td>0</td>\n",
              "      <td>0</td>\n",
              "      <td>0</td>\n",
              "    </tr>\n",
              "    <tr>\n",
              "      <th>2</th>\n",
              "      <td>62</td>\n",
              "      <td>0</td>\n",
              "      <td>0</td>\n",
              "      <td>0</td>\n",
              "      <td>0</td>\n",
              "      <td>0</td>\n",
              "      <td>0</td>\n",
              "      <td>1</td>\n",
              "      <td>0.0</td>\n",
              "      <td>0</td>\n",
              "      <td>0</td>\n",
              "      <td>0.000000</td>\n",
              "      <td>29</td>\n",
              "      <td>4</td>\n",
              "      <td>1</td>\n",
              "      <td>0</td>\n",
              "      <td>1</td>\n",
              "      <td>0</td>\n",
              "      <td>0</td>\n",
              "      <td>0</td>\n",
              "      <td>0</td>\n",
              "    </tr>\n",
              "    <tr>\n",
              "      <th>3</th>\n",
              "      <td>8</td>\n",
              "      <td>0</td>\n",
              "      <td>0</td>\n",
              "      <td>0</td>\n",
              "      <td>0</td>\n",
              "      <td>0</td>\n",
              "      <td>0</td>\n",
              "      <td>1</td>\n",
              "      <td>0.0</td>\n",
              "      <td>0</td>\n",
              "      <td>0</td>\n",
              "      <td>0.000000</td>\n",
              "      <td>29</td>\n",
              "      <td>4</td>\n",
              "      <td>1</td>\n",
              "      <td>0</td>\n",
              "      <td>1</td>\n",
              "      <td>0</td>\n",
              "      <td>0</td>\n",
              "      <td>0</td>\n",
              "      <td>0</td>\n",
              "    </tr>\n",
              "    <tr>\n",
              "      <th>4</th>\n",
              "      <td>56</td>\n",
              "      <td>0</td>\n",
              "      <td>1</td>\n",
              "      <td>1</td>\n",
              "      <td>0</td>\n",
              "      <td>0</td>\n",
              "      <td>0</td>\n",
              "      <td>0</td>\n",
              "      <td>0.0</td>\n",
              "      <td>0</td>\n",
              "      <td>0</td>\n",
              "      <td>0.666667</td>\n",
              "      <td>29</td>\n",
              "      <td>4</td>\n",
              "      <td>1</td>\n",
              "      <td>0</td>\n",
              "      <td>1</td>\n",
              "      <td>0</td>\n",
              "      <td>0</td>\n",
              "      <td>0</td>\n",
              "      <td>0</td>\n",
              "    </tr>\n",
              "  </tbody>\n",
              "</table>\n",
              "</div>\n",
              "      <button class=\"colab-df-convert\" onclick=\"convertToInteractive('df-c1327628-054b-45ad-b66c-ac6707b2aa0b')\"\n",
              "              title=\"Convert this dataframe to an interactive table.\"\n",
              "              style=\"display:none;\">\n",
              "        \n",
              "  <svg xmlns=\"http://www.w3.org/2000/svg\" height=\"24px\"viewBox=\"0 0 24 24\"\n",
              "       width=\"24px\">\n",
              "    <path d=\"M0 0h24v24H0V0z\" fill=\"none\"/>\n",
              "    <path d=\"M18.56 5.44l.94 2.06.94-2.06 2.06-.94-2.06-.94-.94-2.06-.94 2.06-2.06.94zm-11 1L8.5 8.5l.94-2.06 2.06-.94-2.06-.94L8.5 2.5l-.94 2.06-2.06.94zm10 10l.94 2.06.94-2.06 2.06-.94-2.06-.94-.94-2.06-.94 2.06-2.06.94z\"/><path d=\"M17.41 7.96l-1.37-1.37c-.4-.4-.92-.59-1.43-.59-.52 0-1.04.2-1.43.59L10.3 9.45l-7.72 7.72c-.78.78-.78 2.05 0 2.83L4 21.41c.39.39.9.59 1.41.59.51 0 1.02-.2 1.41-.59l7.78-7.78 2.81-2.81c.8-.78.8-2.07 0-2.86zM5.41 20L4 18.59l7.72-7.72 1.47 1.35L5.41 20z\"/>\n",
              "  </svg>\n",
              "      </button>\n",
              "      \n",
              "  <style>\n",
              "    .colab-df-container {\n",
              "      display:flex;\n",
              "      flex-wrap:wrap;\n",
              "      gap: 12px;\n",
              "    }\n",
              "\n",
              "    .colab-df-convert {\n",
              "      background-color: #E8F0FE;\n",
              "      border: none;\n",
              "      border-radius: 50%;\n",
              "      cursor: pointer;\n",
              "      display: none;\n",
              "      fill: #1967D2;\n",
              "      height: 32px;\n",
              "      padding: 0 0 0 0;\n",
              "      width: 32px;\n",
              "    }\n",
              "\n",
              "    .colab-df-convert:hover {\n",
              "      background-color: #E2EBFA;\n",
              "      box-shadow: 0px 1px 2px rgba(60, 64, 67, 0.3), 0px 1px 3px 1px rgba(60, 64, 67, 0.15);\n",
              "      fill: #174EA6;\n",
              "    }\n",
              "\n",
              "    [theme=dark] .colab-df-convert {\n",
              "      background-color: #3B4455;\n",
              "      fill: #D2E3FC;\n",
              "    }\n",
              "\n",
              "    [theme=dark] .colab-df-convert:hover {\n",
              "      background-color: #434B5C;\n",
              "      box-shadow: 0px 1px 3px 1px rgba(0, 0, 0, 0.15);\n",
              "      filter: drop-shadow(0px 1px 2px rgba(0, 0, 0, 0.3));\n",
              "      fill: #FFFFFF;\n",
              "    }\n",
              "  </style>\n",
              "\n",
              "      <script>\n",
              "        const buttonEl =\n",
              "          document.querySelector('#df-c1327628-054b-45ad-b66c-ac6707b2aa0b button.colab-df-convert');\n",
              "        buttonEl.style.display =\n",
              "          google.colab.kernel.accessAllowed ? 'block' : 'none';\n",
              "\n",
              "        async function convertToInteractive(key) {\n",
              "          const element = document.querySelector('#df-c1327628-054b-45ad-b66c-ac6707b2aa0b');\n",
              "          const dataTable =\n",
              "            await google.colab.kernel.invokeFunction('convertToInteractive',\n",
              "                                                     [key], {});\n",
              "          if (!dataTable) return;\n",
              "\n",
              "          const docLinkHtml = 'Like what you see? Visit the ' +\n",
              "            '<a target=\"_blank\" href=https://colab.research.google.com/notebooks/data_table.ipynb>data table notebook</a>'\n",
              "            + ' to learn more about interactive tables.';\n",
              "          element.innerHTML = '';\n",
              "          dataTable['output_type'] = 'display_data';\n",
              "          await google.colab.output.renderOutput(dataTable, element);\n",
              "          const docLink = document.createElement('div');\n",
              "          docLink.innerHTML = docLinkHtml;\n",
              "          element.appendChild(docLink);\n",
              "        }\n",
              "      </script>\n",
              "    </div>\n",
              "  </div>\n",
              "  "
            ],
            "text/plain": [
              "   Age  Scholarship  Hipertension  ...  Handcap_2  Handcap_3  Handcap_4\n",
              "0   62            0             1  ...          0          0          0\n",
              "1   56            0             0  ...          0          0          0\n",
              "2   62            0             0  ...          0          0          0\n",
              "3    8            0             0  ...          0          0          0\n",
              "4   56            0             1  ...          0          0          0\n",
              "\n",
              "[5 rows x 21 columns]"
            ]
          },
          "metadata": {},
          "execution_count": 26
        }
      ],
      "source": [
        "df.head()"
      ],
      "id": "9iT9D71vA7wd"
    },
    {
      "cell_type": "markdown",
      "metadata": {
        "id": "TPn6ymbNrnVE"
      },
      "source": [
        "<a id='eda'></a>\n",
        "# **Exploratory Data Analysis**"
      ],
      "id": "TPn6ymbNrnVE"
    },
    {
      "cell_type": "code",
      "execution_count": null,
      "metadata": {
        "colab": {
          "base_uri": "https://localhost:8080/"
        },
        "id": "dm_JcBjT9s63",
        "outputId": "e493cc2d-9065-4c50-df7f-8f9d6c66cfc8"
      },
      "outputs": [
        {
          "output_type": "execute_result",
          "data": {
            "text/plain": [
              "Index(['Age', 'Scholarship', 'Hipertension', 'Diabetes', 'Alcoholism',\n",
              "       'SMS_received', 'No-show', 'NumberOfSchedulation', 'NumberOfNoShow',\n",
              "       'Num_App_Missed', 'DayDifference', 'Avg_Diseases', 'ScheduleedDay',\n",
              "       'ScheduledMonth', 'Gender_F', 'Gender_M', 'Handcap_0', 'Handcap_1',\n",
              "       'Handcap_2', 'Handcap_3', 'Handcap_4'],\n",
              "      dtype='object')"
            ]
          },
          "metadata": {},
          "execution_count": 27
        }
      ],
      "source": [
        "df.columns "
      ],
      "id": "dm_JcBjT9s63"
    },
    {
      "cell_type": "code",
      "execution_count": null,
      "metadata": {
        "colab": {
          "base_uri": "https://localhost:8080/",
          "height": 424
        },
        "id": "d9-83yZF-Q9Q",
        "outputId": "97926d43-cbf3-4353-90e2-eaa0f79d33b3"
      },
      "outputs": [
        {
          "output_type": "execute_result",
          "data": {
            "text/html": [
              "\n",
              "  <div id=\"df-a881de2b-24e1-47ef-852a-8e396f401dac\">\n",
              "    <div class=\"colab-df-container\">\n",
              "      <div>\n",
              "<style scoped>\n",
              "    .dataframe tbody tr th:only-of-type {\n",
              "        vertical-align: middle;\n",
              "    }\n",
              "\n",
              "    .dataframe tbody tr th {\n",
              "        vertical-align: top;\n",
              "    }\n",
              "\n",
              "    .dataframe thead th {\n",
              "        text-align: right;\n",
              "    }\n",
              "</style>\n",
              "<table border=\"1\" class=\"dataframe\">\n",
              "  <thead>\n",
              "    <tr style=\"text-align: right;\">\n",
              "      <th></th>\n",
              "      <th>NumberOfNoShow</th>\n",
              "      <th>Num_App_Missed</th>\n",
              "      <th>DayDifference</th>\n",
              "      <th>No-show</th>\n",
              "    </tr>\n",
              "  </thead>\n",
              "  <tbody>\n",
              "    <tr>\n",
              "      <th>0</th>\n",
              "      <td>0.0</td>\n",
              "      <td>0</td>\n",
              "      <td>0</td>\n",
              "      <td>0</td>\n",
              "    </tr>\n",
              "    <tr>\n",
              "      <th>1</th>\n",
              "      <td>0.0</td>\n",
              "      <td>0</td>\n",
              "      <td>0</td>\n",
              "      <td>0</td>\n",
              "    </tr>\n",
              "    <tr>\n",
              "      <th>2</th>\n",
              "      <td>0.0</td>\n",
              "      <td>0</td>\n",
              "      <td>0</td>\n",
              "      <td>0</td>\n",
              "    </tr>\n",
              "    <tr>\n",
              "      <th>3</th>\n",
              "      <td>0.0</td>\n",
              "      <td>0</td>\n",
              "      <td>0</td>\n",
              "      <td>0</td>\n",
              "    </tr>\n",
              "    <tr>\n",
              "      <th>4</th>\n",
              "      <td>0.0</td>\n",
              "      <td>0</td>\n",
              "      <td>0</td>\n",
              "      <td>0</td>\n",
              "    </tr>\n",
              "    <tr>\n",
              "      <th>...</th>\n",
              "      <td>...</td>\n",
              "      <td>...</td>\n",
              "      <td>...</td>\n",
              "      <td>...</td>\n",
              "    </tr>\n",
              "    <tr>\n",
              "      <th>110522</th>\n",
              "      <td>0.0</td>\n",
              "      <td>1</td>\n",
              "      <td>35</td>\n",
              "      <td>0</td>\n",
              "    </tr>\n",
              "    <tr>\n",
              "      <th>110523</th>\n",
              "      <td>0.0</td>\n",
              "      <td>1</td>\n",
              "      <td>35</td>\n",
              "      <td>0</td>\n",
              "    </tr>\n",
              "    <tr>\n",
              "      <th>110524</th>\n",
              "      <td>0.0</td>\n",
              "      <td>0</td>\n",
              "      <td>41</td>\n",
              "      <td>0</td>\n",
              "    </tr>\n",
              "    <tr>\n",
              "      <th>110525</th>\n",
              "      <td>0.0</td>\n",
              "      <td>0</td>\n",
              "      <td>41</td>\n",
              "      <td>0</td>\n",
              "    </tr>\n",
              "    <tr>\n",
              "      <th>110526</th>\n",
              "      <td>0.0</td>\n",
              "      <td>0</td>\n",
              "      <td>41</td>\n",
              "      <td>0</td>\n",
              "    </tr>\n",
              "  </tbody>\n",
              "</table>\n",
              "<p>110527 rows × 4 columns</p>\n",
              "</div>\n",
              "      <button class=\"colab-df-convert\" onclick=\"convertToInteractive('df-a881de2b-24e1-47ef-852a-8e396f401dac')\"\n",
              "              title=\"Convert this dataframe to an interactive table.\"\n",
              "              style=\"display:none;\">\n",
              "        \n",
              "  <svg xmlns=\"http://www.w3.org/2000/svg\" height=\"24px\"viewBox=\"0 0 24 24\"\n",
              "       width=\"24px\">\n",
              "    <path d=\"M0 0h24v24H0V0z\" fill=\"none\"/>\n",
              "    <path d=\"M18.56 5.44l.94 2.06.94-2.06 2.06-.94-2.06-.94-.94-2.06-.94 2.06-2.06.94zm-11 1L8.5 8.5l.94-2.06 2.06-.94-2.06-.94L8.5 2.5l-.94 2.06-2.06.94zm10 10l.94 2.06.94-2.06 2.06-.94-2.06-.94-.94-2.06-.94 2.06-2.06.94z\"/><path d=\"M17.41 7.96l-1.37-1.37c-.4-.4-.92-.59-1.43-.59-.52 0-1.04.2-1.43.59L10.3 9.45l-7.72 7.72c-.78.78-.78 2.05 0 2.83L4 21.41c.39.39.9.59 1.41.59.51 0 1.02-.2 1.41-.59l7.78-7.78 2.81-2.81c.8-.78.8-2.07 0-2.86zM5.41 20L4 18.59l7.72-7.72 1.47 1.35L5.41 20z\"/>\n",
              "  </svg>\n",
              "      </button>\n",
              "      \n",
              "  <style>\n",
              "    .colab-df-container {\n",
              "      display:flex;\n",
              "      flex-wrap:wrap;\n",
              "      gap: 12px;\n",
              "    }\n",
              "\n",
              "    .colab-df-convert {\n",
              "      background-color: #E8F0FE;\n",
              "      border: none;\n",
              "      border-radius: 50%;\n",
              "      cursor: pointer;\n",
              "      display: none;\n",
              "      fill: #1967D2;\n",
              "      height: 32px;\n",
              "      padding: 0 0 0 0;\n",
              "      width: 32px;\n",
              "    }\n",
              "\n",
              "    .colab-df-convert:hover {\n",
              "      background-color: #E2EBFA;\n",
              "      box-shadow: 0px 1px 2px rgba(60, 64, 67, 0.3), 0px 1px 3px 1px rgba(60, 64, 67, 0.15);\n",
              "      fill: #174EA6;\n",
              "    }\n",
              "\n",
              "    [theme=dark] .colab-df-convert {\n",
              "      background-color: #3B4455;\n",
              "      fill: #D2E3FC;\n",
              "    }\n",
              "\n",
              "    [theme=dark] .colab-df-convert:hover {\n",
              "      background-color: #434B5C;\n",
              "      box-shadow: 0px 1px 3px 1px rgba(0, 0, 0, 0.15);\n",
              "      filter: drop-shadow(0px 1px 2px rgba(0, 0, 0, 0.3));\n",
              "      fill: #FFFFFF;\n",
              "    }\n",
              "  </style>\n",
              "\n",
              "      <script>\n",
              "        const buttonEl =\n",
              "          document.querySelector('#df-a881de2b-24e1-47ef-852a-8e396f401dac button.colab-df-convert');\n",
              "        buttonEl.style.display =\n",
              "          google.colab.kernel.accessAllowed ? 'block' : 'none';\n",
              "\n",
              "        async function convertToInteractive(key) {\n",
              "          const element = document.querySelector('#df-a881de2b-24e1-47ef-852a-8e396f401dac');\n",
              "          const dataTable =\n",
              "            await google.colab.kernel.invokeFunction('convertToInteractive',\n",
              "                                                     [key], {});\n",
              "          if (!dataTable) return;\n",
              "\n",
              "          const docLinkHtml = 'Like what you see? Visit the ' +\n",
              "            '<a target=\"_blank\" href=https://colab.research.google.com/notebooks/data_table.ipynb>data table notebook</a>'\n",
              "            + ' to learn more about interactive tables.';\n",
              "          element.innerHTML = '';\n",
              "          dataTable['output_type'] = 'display_data';\n",
              "          await google.colab.output.renderOutput(dataTable, element);\n",
              "          const docLink = document.createElement('div');\n",
              "          docLink.innerHTML = docLinkHtml;\n",
              "          element.appendChild(docLink);\n",
              "        }\n",
              "      </script>\n",
              "    </div>\n",
              "  </div>\n",
              "  "
            ],
            "text/plain": [
              "        NumberOfNoShow  Num_App_Missed  DayDifference  No-show\n",
              "0                  0.0               0              0        0\n",
              "1                  0.0               0              0        0\n",
              "2                  0.0               0              0        0\n",
              "3                  0.0               0              0        0\n",
              "4                  0.0               0              0        0\n",
              "...                ...             ...            ...      ...\n",
              "110522             0.0               1             35        0\n",
              "110523             0.0               1             35        0\n",
              "110524             0.0               0             41        0\n",
              "110525             0.0               0             41        0\n",
              "110526             0.0               0             41        0\n",
              "\n",
              "[110527 rows x 4 columns]"
            ]
          },
          "metadata": {},
          "execution_count": 28
        }
      ],
      "source": [
        "df2 = df[['NumberOfNoShow', 'Num_App_Missed', 'DayDifference','No-show']]\n",
        "df2"
      ],
      "id": "d9-83yZF-Q9Q"
    },
    {
      "cell_type": "code",
      "execution_count": null,
      "metadata": {
        "colab": {
          "base_uri": "https://localhost:8080/",
          "height": 897
        },
        "id": "300wqRzb9P_c",
        "outputId": "74a6ae49-4a87-42a4-80f0-1a2937bd4852"
      },
      "outputs": [
        {
          "output_type": "execute_result",
          "data": {
            "text/plain": [
              "Text(0.5, 1.0, 'Correlations Between Features')"
            ]
          },
          "metadata": {},
          "execution_count": 29
        },
        {
          "output_type": "display_data",
          "data": {
            "image/png": "[encoded data removed]",
            "text/plain": [
              "<Figure size 1080x1080 with 2 Axes>"
            ]
          },
          "metadata": {
            "needs_background": "light"
          }
        }
      ],
      "source": [
        "plt.figure(figsize=(15,15))\n",
        "sns.heatmap(df2.corr() ,annot=True,cmap=\"YlGnBu\")\n",
        "plt.title(\"Correlations Between Features\")"
      ],
      "id": "300wqRzb9P_c"
    },
    {
      "cell_type": "markdown",
      "metadata": {
        "id": "gibTOvZz249v"
      },
      "source": [
        "From the above figure we can see that the No-Show factor  have a significant positive impact on our predictions."
      ],
      "id": "gibTOvZz249v"
    },
    {
      "cell_type": "code",
      "execution_count": null,
      "metadata": {
        "colab": {
          "base_uri": "https://localhost:8080/",
          "height": 513
        },
        "id": "LO9HzEK0rrea",
        "outputId": "9d65a517-b494-44ea-9438-415d38f0ded1"
      },
      "outputs": [
        {
          "output_type": "display_data",
          "data": {
            "image/png": "[encoded data removed]",
            "text/plain": [
              "<Figure size 576x576 with 1 Axes>"
            ]
          },
          "metadata": {
            "needs_background": "light"
          }
        }
      ],
      "source": [
        "plt.figure(figsize=(8,8))\n",
        "sns.boxplot(x='No-show',y='Age',data=df,color='lightblue')\n",
        "plt.title(\"Show And Not Show Per Age \")\n",
        "plt.xlabel('NO Show ');\n",
        "plt.ylabel('Age');"
      ],
      "id": "LO9HzEK0rrea"
    },
    {
      "cell_type": "markdown",
      "metadata": {
        "id": "rTvwnvFnsYoN"
      },
      "source": [
        "any age more than 100 is considered as an Outlier"
      ],
      "id": "rTvwnvFnsYoN"
    },
    {
      "cell_type": "code",
      "execution_count": null,
      "metadata": {
        "colab": {
          "base_uri": "https://localhost:8080/",
          "height": 513
        },
        "id": "lwKWL_FD-7zt",
        "outputId": "a24fbb51-4ac9-45eb-8a53-06042bf78333"
      },
      "outputs": [
        {
          "output_type": "display_data",
          "data": {
            "image/png": "[encoded data removed]",
            "text/plain": [
              "<Figure size 576x576 with 1 Axes>"
            ]
          },
          "metadata": {
            "needs_background": "light"
          }
        }
      ],
      "source": [
        "plt.figure(figsize=(8,8))\n",
        "plt.title(\"Show And Not Show Counts \")\n",
        "sns.countplot(data = df, x = 'No-show', color = 'lightblue');"
      ],
      "id": "lwKWL_FD-7zt"
    },
    {
      "cell_type": "markdown",
      "metadata": {
        "id": "EIq85r9p-8Ag"
      },
      "source": [
        "From the above figure, it is clear to us that the data is unbalanced, so a resampling  must be done for it"
      ],
      "id": "EIq85r9p-8Ag"
    },
    {
      "cell_type": "markdown",
      "metadata": {
        "id": "vfZUceLKT_Ii"
      },
      "source": [
        "\n",
        "<a id='ho'></a>\n",
        "\n",
        "## **Handle Outliers**"
      ],
      "id": "vfZUceLKT_Ii"
    },
    {
      "cell_type": "code",
      "execution_count": null,
      "metadata": {
        "id": "CBmextMQWXpK"
      },
      "outputs": [],
      "source": [
        "def outlier_treatment(datacolumn):\n",
        "  sorted(datacolumn)\n",
        "  Q1,Q3 = np.percentile(datacolumn , [25,75])\n",
        "  IQR = Q3 - Q1\n",
        "  lower_range = Q1 - (1.5 * IQR)\n",
        "  upper_range = Q3 + (1.5 * IQR)\n",
        "  return lower_range,upper_range"
      ],
      "id": "CBmextMQWXpK"
    },
    {
      "cell_type": "code",
      "execution_count": null,
      "metadata": {
        "id": "7QjV_bTwW3MG"
      },
      "outputs": [],
      "source": [
        "lowerbound,upperbound = outlier_treatment(df.Age)"
      ],
      "id": "7QjV_bTwW3MG"
    },
    {
      "cell_type": "code",
      "execution_count": null,
      "metadata": {
        "colab": {
          "base_uri": "https://localhost:8080/",
          "height": 288
        },
        "id": "PRNzmRp0XGtF",
        "outputId": "19240c7c-e7fb-4cca-d786-df3fda478fa2"
      },
      "outputs": [
        {
          "output_type": "execute_result",
          "data": {
            "text/html": [
              "\n",
              "  <div id=\"df-26c8a77a-2ea7-4930-81a7-6790dfd5f0ee\">\n",
              "    <div class=\"colab-df-container\">\n",
              "      <div>\n",
              "<style scoped>\n",
              "    .dataframe tbody tr th:only-of-type {\n",
              "        vertical-align: middle;\n",
              "    }\n",
              "\n",
              "    .dataframe tbody tr th {\n",
              "        vertical-align: top;\n",
              "    }\n",
              "\n",
              "    .dataframe thead th {\n",
              "        text-align: right;\n",
              "    }\n",
              "</style>\n",
              "<table border=\"1\" class=\"dataframe\">\n",
              "  <thead>\n",
              "    <tr style=\"text-align: right;\">\n",
              "      <th></th>\n",
              "      <th>Age</th>\n",
              "      <th>Scholarship</th>\n",
              "      <th>Hipertension</th>\n",
              "      <th>Diabetes</th>\n",
              "      <th>Alcoholism</th>\n",
              "      <th>SMS_received</th>\n",
              "      <th>No-show</th>\n",
              "      <th>NumberOfSchedulation</th>\n",
              "      <th>NumberOfNoShow</th>\n",
              "      <th>Num_App_Missed</th>\n",
              "      <th>DayDifference</th>\n",
              "      <th>Avg_Diseases</th>\n",
              "      <th>ScheduleedDay</th>\n",
              "      <th>ScheduledMonth</th>\n",
              "      <th>Gender_F</th>\n",
              "      <th>Gender_M</th>\n",
              "      <th>Handcap_0</th>\n",
              "      <th>Handcap_1</th>\n",
              "      <th>Handcap_2</th>\n",
              "      <th>Handcap_3</th>\n",
              "      <th>Handcap_4</th>\n",
              "    </tr>\n",
              "  </thead>\n",
              "  <tbody>\n",
              "    <tr>\n",
              "      <th>63912</th>\n",
              "      <td>115</td>\n",
              "      <td>0</td>\n",
              "      <td>0</td>\n",
              "      <td>0</td>\n",
              "      <td>0</td>\n",
              "      <td>0</td>\n",
              "      <td>1</td>\n",
              "      <td>1</td>\n",
              "      <td>1.000000</td>\n",
              "      <td>1</td>\n",
              "      <td>3</td>\n",
              "      <td>0.000000</td>\n",
              "      <td>16</td>\n",
              "      <td>5</td>\n",
              "      <td>1</td>\n",
              "      <td>0</td>\n",
              "      <td>0</td>\n",
              "      <td>1</td>\n",
              "      <td>0</td>\n",
              "      <td>0</td>\n",
              "      <td>0</td>\n",
              "    </tr>\n",
              "    <tr>\n",
              "      <th>63915</th>\n",
              "      <td>115</td>\n",
              "      <td>0</td>\n",
              "      <td>0</td>\n",
              "      <td>0</td>\n",
              "      <td>0</td>\n",
              "      <td>0</td>\n",
              "      <td>1</td>\n",
              "      <td>2</td>\n",
              "      <td>1.000000</td>\n",
              "      <td>2</td>\n",
              "      <td>3</td>\n",
              "      <td>0.000000</td>\n",
              "      <td>16</td>\n",
              "      <td>5</td>\n",
              "      <td>1</td>\n",
              "      <td>0</td>\n",
              "      <td>0</td>\n",
              "      <td>1</td>\n",
              "      <td>0</td>\n",
              "      <td>0</td>\n",
              "      <td>0</td>\n",
              "    </tr>\n",
              "    <tr>\n",
              "      <th>68127</th>\n",
              "      <td>115</td>\n",
              "      <td>0</td>\n",
              "      <td>0</td>\n",
              "      <td>0</td>\n",
              "      <td>0</td>\n",
              "      <td>0</td>\n",
              "      <td>1</td>\n",
              "      <td>0</td>\n",
              "      <td>0.000000</td>\n",
              "      <td>3</td>\n",
              "      <td>38</td>\n",
              "      <td>0.000000</td>\n",
              "      <td>8</td>\n",
              "      <td>4</td>\n",
              "      <td>1</td>\n",
              "      <td>0</td>\n",
              "      <td>0</td>\n",
              "      <td>1</td>\n",
              "      <td>0</td>\n",
              "      <td>0</td>\n",
              "      <td>0</td>\n",
              "    </tr>\n",
              "    <tr>\n",
              "      <th>76284</th>\n",
              "      <td>115</td>\n",
              "      <td>0</td>\n",
              "      <td>0</td>\n",
              "      <td>0</td>\n",
              "      <td>0</td>\n",
              "      <td>0</td>\n",
              "      <td>0</td>\n",
              "      <td>3</td>\n",
              "      <td>0.666667</td>\n",
              "      <td>3</td>\n",
              "      <td>0</td>\n",
              "      <td>0.000000</td>\n",
              "      <td>30</td>\n",
              "      <td>5</td>\n",
              "      <td>1</td>\n",
              "      <td>0</td>\n",
              "      <td>0</td>\n",
              "      <td>1</td>\n",
              "      <td>0</td>\n",
              "      <td>0</td>\n",
              "      <td>0</td>\n",
              "    </tr>\n",
              "    <tr>\n",
              "      <th>97666</th>\n",
              "      <td>115</td>\n",
              "      <td>0</td>\n",
              "      <td>1</td>\n",
              "      <td>0</td>\n",
              "      <td>0</td>\n",
              "      <td>1</td>\n",
              "      <td>0</td>\n",
              "      <td>0</td>\n",
              "      <td>0.000000</td>\n",
              "      <td>0</td>\n",
              "      <td>15</td>\n",
              "      <td>0.333333</td>\n",
              "      <td>19</td>\n",
              "      <td>5</td>\n",
              "      <td>1</td>\n",
              "      <td>0</td>\n",
              "      <td>1</td>\n",
              "      <td>0</td>\n",
              "      <td>0</td>\n",
              "      <td>0</td>\n",
              "      <td>0</td>\n",
              "    </tr>\n",
              "  </tbody>\n",
              "</table>\n",
              "</div>\n",
              "      <button class=\"colab-df-convert\" onclick=\"convertToInteractive('df-26c8a77a-2ea7-4930-81a7-6790dfd5f0ee')\"\n",
              "              title=\"Convert this dataframe to an interactive table.\"\n",
              "              style=\"display:none;\">\n",
              "        \n",
              "  <svg xmlns=\"http://www.w3.org/2000/svg\" height=\"24px\"viewBox=\"0 0 24 24\"\n",
              "       width=\"24px\">\n",
              "    <path d=\"M0 0h24v24H0V0z\" fill=\"none\"/>\n",
              "    <path d=\"M18.56 5.44l.94 2.06.94-2.06 2.06-.94-2.06-.94-.94-2.06-.94 2.06-2.06.94zm-11 1L8.5 8.5l.94-2.06 2.06-.94-2.06-.94L8.5 2.5l-.94 2.06-2.06.94zm10 10l.94 2.06.94-2.06 2.06-.94-2.06-.94-.94-2.06-.94 2.06-2.06.94z\"/><path d=\"M17.41 7.96l-1.37-1.37c-.4-.4-.92-.59-1.43-.59-.52 0-1.04.2-1.43.59L10.3 9.45l-7.72 7.72c-.78.78-.78 2.05 0 2.83L4 21.41c.39.39.9.59 1.41.59.51 0 1.02-.2 1.41-.59l7.78-7.78 2.81-2.81c.8-.78.8-2.07 0-2.86zM5.41 20L4 18.59l7.72-7.72 1.47 1.35L5.41 20z\"/>\n",
              "  </svg>\n",
              "      </button>\n",
              "      \n",
              "  <style>\n",
              "    .colab-df-container {\n",
              "      display:flex;\n",
              "      flex-wrap:wrap;\n",
              "      gap: 12px;\n",
              "    }\n",
              "\n",
              "    .colab-df-convert {\n",
              "      background-color: #E8F0FE;\n",
              "      border: none;\n",
              "      border-radius: 50%;\n",
              "      cursor: pointer;\n",
              "      display: none;\n",
              "      fill: #1967D2;\n",
              "      height: 32px;\n",
              "      padding: 0 0 0 0;\n",
              "      width: 32px;\n",
              "    }\n",
              "\n",
              "    .colab-df-convert:hover {\n",
              "      background-color: #E2EBFA;\n",
              "      box-shadow: 0px 1px 2px rgba(60, 64, 67, 0.3), 0px 1px 3px 1px rgba(60, 64, 67, 0.15);\n",
              "      fill: #174EA6;\n",
              "    }\n",
              "\n",
              "    [theme=dark] .colab-df-convert {\n",
              "      background-color: #3B4455;\n",
              "      fill: #D2E3FC;\n",
              "    }\n",
              "\n",
              "    [theme=dark] .colab-df-convert:hover {\n",
              "      background-color: #434B5C;\n",
              "      box-shadow: 0px 1px 3px 1px rgba(0, 0, 0, 0.15);\n",
              "      filter: drop-shadow(0px 1px 2px rgba(0, 0, 0, 0.3));\n",
              "      fill: #FFFFFF;\n",
              "    }\n",
              "  </style>\n",
              "\n",
              "      <script>\n",
              "        const buttonEl =\n",
              "          document.querySelector('#df-26c8a77a-2ea7-4930-81a7-6790dfd5f0ee button.colab-df-convert');\n",
              "        buttonEl.style.display =\n",
              "          google.colab.kernel.accessAllowed ? 'block' : 'none';\n",
              "\n",
              "        async function convertToInteractive(key) {\n",
              "          const element = document.querySelector('#df-26c8a77a-2ea7-4930-81a7-6790dfd5f0ee');\n",
              "          const dataTable =\n",
              "            await google.colab.kernel.invokeFunction('convertToInteractive',\n",
              "                                                     [key], {});\n",
              "          if (!dataTable) return;\n",
              "\n",
              "          const docLinkHtml = 'Like what you see? Visit the ' +\n",
              "            '<a target=\"_blank\" href=https://colab.research.google.com/notebooks/data_table.ipynb>data table notebook</a>'\n",
              "            + ' to learn more about interactive tables.';\n",
              "          element.innerHTML = '';\n",
              "          dataTable['output_type'] = 'display_data';\n",
              "          await google.colab.output.renderOutput(dataTable, element);\n",
              "          const docLink = document.createElement('div');\n",
              "          docLink.innerHTML = docLinkHtml;\n",
              "          element.appendChild(docLink);\n",
              "        }\n",
              "      </script>\n",
              "    </div>\n",
              "  </div>\n",
              "  "
            ],
            "text/plain": [
              "       Age  Scholarship  Hipertension  ...  Handcap_2  Handcap_3  Handcap_4\n",
              "63912  115            0             0  ...          0          0          0\n",
              "63915  115            0             0  ...          0          0          0\n",
              "68127  115            0             0  ...          0          0          0\n",
              "76284  115            0             0  ...          0          0          0\n",
              "97666  115            0             1  ...          0          0          0\n",
              "\n",
              "[5 rows x 21 columns]"
            ]
          },
          "metadata": {},
          "execution_count": 34
        }
      ],
      "source": [
        "df[(df.Age < lowerbound) | (df.Age > upperbound)]"
      ],
      "id": "PRNzmRp0XGtF"
    },
    {
      "cell_type": "code",
      "execution_count": null,
      "metadata": {
        "id": "3fHDDCfmXRen"
      },
      "outputs": [],
      "source": [
        "df.drop(df[ (df.Age > upperbound) | (df.Age < lowerbound) ].index , inplace=True)"
      ],
      "id": "3fHDDCfmXRen"
    },
    {
      "cell_type": "code",
      "execution_count": null,
      "metadata": {
        "colab": {
          "base_uri": "https://localhost:8080/"
        },
        "id": "TbO_Xmjcvx4D",
        "outputId": "c3cb1786-5eff-4d13-a18e-dc01b2d70337"
      },
      "outputs": [
        {
          "output_type": "execute_result",
          "data": {
            "text/plain": [
              "(110522, 21)"
            ]
          },
          "metadata": {},
          "execution_count": 36
        }
      ],
      "source": [
        "df.shape"
      ],
      "id": "TbO_Xmjcvx4D"
    },
    {
      "cell_type": "markdown",
      "metadata": {
        "id": "492f6035"
      },
      "source": [
        "<a id='sd'></a>\n",
        "# **Split The Data**"
      ],
      "id": "492f6035"
    },
    {
      "cell_type": "code",
      "execution_count": null,
      "metadata": {
        "id": "28971322"
      },
      "outputs": [],
      "source": [
        "X_base = df[['Age','Scholarship','Hipertension','Diabetes','Alcoholism','SMS_received']]\n",
        "y_base = df['No-show']"
      ],
      "id": "28971322"
    },
    {
      "cell_type": "code",
      "execution_count": null,
      "metadata": {
        "id": "91d61c69"
      },
      "outputs": [],
      "source": [
        "X_train_base, X_test_base, y_train_base, y_test_base = train_test_split(\n",
        "    X_base, y_base, test_size=.05, random_state=3)\n",
        "X_train_base, X_val_base, y_train_base, y_val_base = train_test_split(\n",
        "    X_train_base, y_train_base, test_size=.05, random_state=3)"
      ],
      "id": "91d61c69"
    },
    {
      "cell_type": "code",
      "execution_count": null,
      "metadata": {
        "id": "impressed-clause"
      },
      "outputs": [],
      "source": [
        "X = df.drop(['No-show'], axis=1)\n",
        "y = df['No-show']"
      ],
      "id": "impressed-clause"
    },
    {
      "cell_type": "code",
      "execution_count": null,
      "metadata": {
        "id": "spare-supplement"
      },
      "outputs": [],
      "source": [
        "X_train, X_test, y_train, y_test = train_test_split(X, y, test_size=.05, random_state=3)\n",
        "X_train, X_val, y_train, y_val = train_test_split(X_train, y_train, test_size=.05, random_state=3)"
      ],
      "id": "spare-supplement"
    },
    {
      "cell_type": "markdown",
      "metadata": {
        "id": "identified-spray"
      },
      "source": [
        "<a id='rd'></a>\n",
        "# **Resampling The Data**"
      ],
      "id": "identified-spray"
    },
    {
      "cell_type": "code",
      "execution_count": null,
      "metadata": {
        "colab": {
          "base_uri": "https://localhost:8080/"
        },
        "id": "approximate-blame",
        "outputId": "bca91ce8-0680-49b9-a4c7-eef9519c8ee2"
      },
      "outputs": [
        {
          "output_type": "execute_result",
          "data": {
            "text/plain": [
              "0    79554\n",
              "1    20191\n",
              "Name: No-show, dtype: int64"
            ]
          },
          "metadata": {},
          "execution_count": 41
        }
      ],
      "source": [
        "y_train.value_counts()"
      ],
      "id": "approximate-blame"
    },
    {
      "cell_type": "code",
      "execution_count": null,
      "metadata": {
        "colab": {
          "base_uri": "https://localhost:8080/"
        },
        "id": "statewide-appeal",
        "outputId": "98c9777f-92fb-455a-e3ef-a44a4897e404"
      },
      "outputs": [
        {
          "output_type": "stream",
          "name": "stderr",
          "text": [
            "/usr/local/lib/python3.7/dist-packages/imblearn/utils/_validation.py:300: UserWarning: After over-sampling, the number of samples (80764) in class 1 will be larger than the number of samples in the majority class (class #0 -> 79554)\n",
            "  f\"After over-sampling, the number of samples ({n_samples})\"\n"
          ]
        }
      ],
      "source": [
        "n_pos = np.sum(y_train == 0)\n",
        "n_neg = np.sum(y_train == 1)\n",
        "ratio = {0 : n_pos, 1 : n_neg * 4} \n",
        "\n",
        "ROS = imblearn.over_sampling.RandomOverSampler(sampling_strategy = ratio, random_state = 42)     \n",
        "X_train, y_train = ROS.fit_resample(X_train, y_train)"
      ],
      "id": "statewide-appeal"
    },
    {
      "cell_type": "code",
      "execution_count": null,
      "metadata": {
        "colab": {
          "base_uri": "https://localhost:8080/"
        },
        "id": "signal-equilibrium",
        "outputId": "fadb60a0-9392-48d1-ac3e-0af737603cf8"
      },
      "outputs": [
        {
          "output_type": "execute_result",
          "data": {
            "text/plain": [
              "1    80764\n",
              "0    79554\n",
              "Name: No-show, dtype: int64"
            ]
          },
          "metadata": {},
          "execution_count": 43
        }
      ],
      "source": [
        "y_train.value_counts() "
      ],
      "id": "signal-equilibrium"
    },
    {
      "cell_type": "code",
      "execution_count": null,
      "metadata": {
        "colab": {
          "base_uri": "https://localhost:8080/",
          "height": 568
        },
        "id": "4adzGOFV_88e",
        "outputId": "362ab99b-4002-425e-85c4-e956dd77da11"
      },
      "outputs": [
        {
          "output_type": "stream",
          "name": "stderr",
          "text": [
            "/usr/local/lib/python3.7/dist-packages/seaborn/_decorators.py:43: FutureWarning: Pass the following variable as a keyword arg: x. From version 0.12, the only valid positional argument will be `data`, and passing other arguments without an explicit keyword will result in an error or misinterpretation.\n",
            "  FutureWarning\n"
          ]
        },
        {
          "output_type": "display_data",
          "data": {
            "image/png": "[encoded data removed]",
            "text/plain": [
              "<Figure size 576x576 with 1 Axes>"
            ]
          },
          "metadata": {
            "needs_background": "light"
          }
        }
      ],
      "source": [
        "plt.figure(figsize=(8,8))\n",
        "plt.title(\"Show And Not Show Counts \")\n",
        "sns.countplot(y_train,color = 'lightblue');"
      ],
      "id": "4adzGOFV_88e"
    },
    {
      "cell_type": "markdown",
      "metadata": {
        "id": "GMh_qke1BCvX"
      },
      "source": [
        "From the above figure, it is clear to us that the data now balanced"
      ],
      "id": "GMh_qke1BCvX"
    },
    {
      "cell_type": "markdown",
      "metadata": {
        "id": "active-communist"
      },
      "source": [
        "<a id='sd1'></a>\n",
        "# **Scaling The Data**"
      ],
      "id": "active-communist"
    },
    {
      "cell_type": "code",
      "execution_count": null,
      "metadata": {
        "id": "simplified-bicycle"
      },
      "outputs": [],
      "source": [
        "ss=StandardScaler()\n",
        "scaled_x_train=ss.fit_transform(X_train)\n",
        "scaled_x_val=ss.transform(X_val)"
      ],
      "id": "simplified-bicycle"
    },
    {
      "cell_type": "markdown",
      "metadata": {
        "id": "5a3bccf7"
      },
      "source": [
        "<a id='b'></a>\n",
        "# **Basline model**"
      ],
      "id": "5a3bccf7"
    },
    {
      "cell_type": "code",
      "execution_count": null,
      "metadata": {
        "colab": {
          "base_uri": "https://localhost:8080/"
        },
        "id": "ce1581f8",
        "outputId": "eba223d7-c1cd-45f0-ba35-905e0ec50353"
      },
      "outputs": [
        {
          "output_type": "execute_result",
          "data": {
            "text/plain": [
              "LogisticRegression()"
            ]
          },
          "metadata": {},
          "execution_count": 46
        }
      ],
      "source": [
        "lr = LogisticRegression()\n",
        "lr.fit(X_train_base, y_train_base)"
      ],
      "id": "ce1581f8"
    },
    {
      "cell_type": "code",
      "execution_count": null,
      "metadata": {
        "colab": {
          "base_uri": "https://localhost:8080/"
        },
        "id": "polyphonic-southeast",
        "outputId": "f98a0921-9f2f-4708-a771-40c06d0f5566"
      },
      "outputs": [
        {
          "output_type": "stream",
          "name": "stdout",
          "text": [
            "Train Score: 0.7975738132237205\n",
            "Validtions Score: 0.8026666666666666\n",
            "\n",
            "Classification Report: \n",
            "              precision    recall  f1-score   support\n",
            "\n",
            "           0       0.80      1.00      0.89      4214\n",
            "           1       0.00      0.00      0.00      1036\n",
            "\n",
            "    accuracy                           0.80      5250\n",
            "   macro avg       0.40      0.50      0.45      5250\n",
            "weighted avg       0.64      0.80      0.71      5250\n",
            "\n"
          ]
        },
        {
          "output_type": "stream",
          "name": "stderr",
          "text": [
            "/usr/local/lib/python3.7/dist-packages/sklearn/metrics/_classification.py:1308: UndefinedMetricWarning: Precision and F-score are ill-defined and being set to 0.0 in labels with no predicted samples. Use `zero_division` parameter to control this behavior.\n",
            "  _warn_prf(average, modifier, msg_start, len(result))\n",
            "/usr/local/lib/python3.7/dist-packages/sklearn/metrics/_classification.py:1308: UndefinedMetricWarning: Precision and F-score are ill-defined and being set to 0.0 in labels with no predicted samples. Use `zero_division` parameter to control this behavior.\n",
            "  _warn_prf(average, modifier, msg_start, len(result))\n",
            "/usr/local/lib/python3.7/dist-packages/sklearn/metrics/_classification.py:1308: UndefinedMetricWarning: Precision and F-score are ill-defined and being set to 0.0 in labels with no predicted samples. Use `zero_division` parameter to control this behavior.\n",
            "  _warn_prf(average, modifier, msg_start, len(result))\n"
          ]
        }
      ],
      "source": [
        "print('Train Score:',lr.score(X_train_base, y_train_base))\n",
        "print('Validtions Score:',lr.score(X_val_base, y_val_base))\n",
        "y_pred = lr.predict(X_val_base)\n",
        "clf_report = classification_report(y_val_base, y_pred)\n",
        "print(f\"\\nClassification Report: \\n{clf_report}\")"
      ],
      "id": "polyphonic-southeast"
    },
    {
      "cell_type": "markdown",
      "metadata": {
        "id": "impossible-exclusion"
      },
      "source": [
        "<a id='lg'></a>\n",
        "\n",
        "# **1. Logistic Regression**"
      ],
      "id": "impossible-exclusion"
    },
    {
      "cell_type": "code",
      "execution_count": null,
      "metadata": {
        "colab": {
          "base_uri": "https://localhost:8080/"
        },
        "id": "Y4GfU1ZrCOTQ",
        "outputId": "04f96ac7-3ce1-464e-ecc3-c71c96bfc1fd"
      },
      "outputs": [
        {
          "output_type": "execute_result",
          "data": {
            "text/plain": [
              "LogisticRegression()"
            ]
          },
          "metadata": {},
          "execution_count": 48
        }
      ],
      "source": [
        "lr = LogisticRegression()\n",
        "lr.fit(scaled_x_train, y_train)"
      ],
      "id": "Y4GfU1ZrCOTQ"
    },
    {
      "cell_type": "code",
      "execution_count": null,
      "metadata": {
        "colab": {
          "base_uri": "https://localhost:8080/"
        },
        "id": "pharmaceutical-jumping",
        "outputId": "af321838-b400-45cd-8d1e-bfb6b7a33180"
      },
      "outputs": [
        {
          "output_type": "stream",
          "name": "stdout",
          "text": [
            "Train Score: 0.943686922242044\n",
            "Validtions Score: 0.9175238095238095\n",
            "\n",
            "Classification Report: \n",
            "              precision    recall  f1-score   support\n",
            "\n",
            "           0       0.99      0.90      0.95      4214\n",
            "           1       0.71      0.98      0.82      1036\n",
            "\n",
            "    accuracy                           0.92      5250\n",
            "   macro avg       0.85      0.94      0.89      5250\n",
            "weighted avg       0.94      0.92      0.92      5250\n",
            "\n"
          ]
        }
      ],
      "source": [
        "print('Train Score:',lr.score(scaled_x_train , y_train))\n",
        "print('Validtions Score:',lr.score(scaled_x_val, y_val))\n",
        "y_pred = lr.predict(scaled_x_val)\n",
        "clf_report = classification_report(y_val, y_pred)\n",
        "print(f\"\\nClassification Report: \\n{clf_report}\")"
      ],
      "id": "pharmaceutical-jumping"
    },
    {
      "cell_type": "code",
      "execution_count": null,
      "metadata": {
        "colab": {
          "base_uri": "https://localhost:8080/",
          "height": 558
        },
        "id": "Bc1avt6n1Mr_",
        "outputId": "8f12ea53-e64f-4b48-eae5-e412d6075349"
      },
      "outputs": [
        {
          "output_type": "display_data",
          "data": {
            "image/png": "[encoded data removed]",
            "text/plain": [
              "<Figure size 720x576 with 2 Axes>"
            ]
          },
          "metadata": {
            "needs_background": "light"
          }
        }
      ],
      "source": [
        "cnf_matrix = metrics.confusion_matrix(y_val, y_pred)\n",
        "plt.figure(figsize=(10,8))\n",
        "ax= plt.subplot()\n",
        "sns.heatmap(cnf_matrix,annot=True, fmt='.5g', ax=ax,cmap=\"YlGnBu\");\n",
        "plt.rcParams.update({'font.size': 30});\n",
        "ax.set_xlabel('Predicted Values', fontsize=17, color='Black');\n",
        "ax.set_ylabel('Actual Values',fontsize=17, color='Black'); \n",
        "ax.set_title('Confusion Matrix \\n', color='Black', fontsize=23); \n",
        "ax.xaxis.set_ticklabels(['Show', 'No Show'],fontsize=13, color='Black');\n",
        "ax.yaxis.set_ticklabels(['Show', 'No Show'],fontsize=13,color='Black');"
      ],
      "id": "Bc1avt6n1Mr_"
    },
    {
      "cell_type": "markdown",
      "metadata": {
        "id": "apparent-auction"
      },
      "source": [
        "<a id='knn'></a>\n",
        "\n",
        "# **2. K-Nearest Neighbors**"
      ],
      "id": "apparent-auction"
    },
    {
      "cell_type": "code",
      "execution_count": null,
      "metadata": {
        "colab": {
          "base_uri": "https://localhost:8080/"
        },
        "id": "different-television",
        "outputId": "8df87ad9-c3dc-487f-e24b-35f95ab56595"
      },
      "outputs": [
        {
          "output_type": "execute_result",
          "data": {
            "text/plain": [
              "KNeighborsClassifier()"
            ]
          },
          "metadata": {},
          "execution_count": 51
        }
      ],
      "source": [
        "knn = KNeighborsClassifier()\n",
        "knn.fit(scaled_x_train, y_train)"
      ],
      "id": "different-television"
    },
    {
      "cell_type": "code",
      "execution_count": null,
      "metadata": {
        "colab": {
          "base_uri": "https://localhost:8080/"
        },
        "id": "black-horse",
        "outputId": "9925f651-d02c-459b-ac7e-fe4393ce1177"
      },
      "outputs": [
        {
          "output_type": "stream",
          "name": "stdout",
          "text": [
            "Train Score: 0.9704774261155953\n",
            "Validtions Score: 0.9331428571428572\n",
            "\n",
            "Classification Report: \n",
            "              precision    recall  f1-score   support\n",
            "\n",
            "           0       0.99      0.93      0.96      4214\n",
            "           1       0.76      0.96      0.85      1036\n",
            "\n",
            "    accuracy                           0.93      5250\n",
            "   macro avg       0.88      0.94      0.90      5250\n",
            "weighted avg       0.94      0.93      0.94      5250\n",
            "\n"
          ]
        }
      ],
      "source": [
        "print('Train Score:',knn.score(scaled_x_train , y_train))\n",
        "print('Validtions Score:',knn.score(scaled_x_val, y_val))\n",
        "y_pred = knn.predict(scaled_x_val)\n",
        "clf_report = classification_report(y_val, y_pred)\n",
        "print(f\"\\nClassification Report: \\n{clf_report}\")"
      ],
      "id": "black-horse"
    },
    {
      "cell_type": "code",
      "execution_count": null,
      "metadata": {
        "colab": {
          "base_uri": "https://localhost:8080/",
          "height": 558
        },
        "id": "technological-wesley",
        "outputId": "42c72a5e-64fa-4e7a-8679-7e9d7ddb42f3"
      },
      "outputs": [
        {
          "output_type": "display_data",
          "data": {
            "image/png": "[encoded data removed]",
            "text/plain": [
              "<Figure size 720x576 with 2 Axes>"
            ]
          },
          "metadata": {
            "needs_background": "light"
          }
        }
      ],
      "source": [
        "cnf_matrix = metrics.confusion_matrix(y_val, y_pred)\n",
        "plt.figure(figsize=(10,8))\n",
        "ax= plt.subplot()\n",
        "sns.heatmap(cnf_matrix,annot=True, fmt='.5g', ax=ax,cmap=\"YlGnBu\");\n",
        "plt.rcParams.update({'font.size': 30});\n",
        "ax.set_xlabel('Predicted Values', fontsize=17, color='Black');\n",
        "ax.set_ylabel('Actual Values',fontsize=17, color='Black'); \n",
        "ax.set_title('Confusion Matrix \\n', color='Black', fontsize=23); \n",
        "ax.xaxis.set_ticklabels(['Show', 'No Show'],fontsize=13, color='Black');\n",
        "ax.yaxis.set_ticklabels(['Show', 'No Show'],fontsize=13,color='Black');"
      ],
      "id": "technological-wesley"
    },
    {
      "cell_type": "markdown",
      "metadata": {
        "id": "individual-surgery"
      },
      "source": [
        "<a id='dt'></a>\n",
        "\n",
        "# **3. Decision Tree**"
      ],
      "id": "individual-surgery"
    },
    {
      "cell_type": "code",
      "execution_count": null,
      "metadata": {
        "colab": {
          "base_uri": "https://localhost:8080/"
        },
        "id": "given-volume",
        "outputId": "67c616e8-bcf4-47ae-b3d9-0e69b43672fd"
      },
      "outputs": [
        {
          "output_type": "execute_result",
          "data": {
            "text/plain": [
              "DecisionTreeClassifier()"
            ]
          },
          "metadata": {},
          "execution_count": 54
        }
      ],
      "source": [
        "dectree = DecisionTreeClassifier()\n",
        "dectree.fit(scaled_x_train, y_train)"
      ],
      "id": "given-volume"
    },
    {
      "cell_type": "code",
      "execution_count": null,
      "metadata": {
        "colab": {
          "base_uri": "https://localhost:8080/"
        },
        "id": "electric-forwarding",
        "outputId": "559fd56d-69bf-488a-b5e8-c3b68ce9aec1"
      },
      "outputs": [
        {
          "output_type": "stream",
          "name": "stdout",
          "text": [
            "Train Score: 0.9992702004765529\n",
            "Validtions Score: 0.948\n",
            "\n",
            "Classification Report: \n",
            "              precision    recall  f1-score   support\n",
            "\n",
            "           0       0.97      0.96      0.97      4214\n",
            "           1       0.86      0.88      0.87      1036\n",
            "\n",
            "    accuracy                           0.95      5250\n",
            "   macro avg       0.91      0.92      0.92      5250\n",
            "weighted avg       0.95      0.95      0.95      5250\n",
            "\n"
          ]
        }
      ],
      "source": [
        "print('Train Score:',dectree.score(scaled_x_train , y_train))\n",
        "print('Validtions Score:',dectree.score(scaled_x_val, y_val))\n",
        "y_pred = dectree.predict(scaled_x_val)\n",
        "clf_report = classification_report(y_val, y_pred)\n",
        "print(f\"\\nClassification Report: \\n{clf_report}\")"
      ],
      "id": "electric-forwarding"
    },
    {
      "cell_type": "code",
      "execution_count": null,
      "metadata": {
        "colab": {
          "base_uri": "https://localhost:8080/",
          "height": 558
        },
        "id": "assured-terry",
        "outputId": "1b85b4a1-865d-49c0-f9a0-6238c9df00a3"
      },
      "outputs": [
        {
          "output_type": "display_data",
          "data": {
            "image/png": "[encoded data removed]",
            "text/plain": [
              "<Figure size 720x576 with 2 Axes>"
            ]
          },
          "metadata": {
            "needs_background": "light"
          }
        }
      ],
      "source": [
        "cnf_matrix = metrics.confusion_matrix(y_val, y_pred)\n",
        "plt.figure(figsize=(10,8))\n",
        "ax= plt.subplot()\n",
        "sns.heatmap(cnf_matrix,annot=True, fmt='.5g', ax=ax,cmap=\"YlGnBu\");\n",
        "plt.rcParams.update({'font.size': 30});\n",
        "ax.set_xlabel('Predicted Values', fontsize=17, color='Black');\n",
        "ax.set_ylabel('Actual Values',fontsize=17, color='Black'); \n",
        "ax.set_title('Confusion Matrix \\n', color='Black', fontsize=23); \n",
        "ax.xaxis.set_ticklabels(['Show', 'No Show'],fontsize=13, color='Black');\n",
        "ax.yaxis.set_ticklabels(['Show', 'No Show'],fontsize=13,color='Black');"
      ],
      "id": "assured-terry"
    },
    {
      "cell_type": "markdown",
      "metadata": {
        "id": "apart-gothic"
      },
      "source": [
        "\n",
        "<a id='et'></a>\n",
        "# **4. Extra Trees**"
      ],
      "id": "apart-gothic"
    },
    {
      "cell_type": "code",
      "execution_count": null,
      "metadata": {
        "colab": {
          "base_uri": "https://localhost:8080/"
        },
        "id": "sorted-cinema",
        "outputId": "492ee16d-6acc-42ff-ad05-2d1dbb83462a"
      },
      "outputs": [
        {
          "output_type": "execute_result",
          "data": {
            "text/plain": [
              "ExtraTreesClassifier()"
            ]
          },
          "metadata": {},
          "execution_count": 57
        }
      ],
      "source": [
        "extratrees = ExtraTreesClassifier()\n",
        "extratrees.fit(scaled_x_train, y_train)"
      ],
      "id": "sorted-cinema"
    },
    {
      "cell_type": "code",
      "execution_count": null,
      "metadata": {
        "colab": {
          "base_uri": "https://localhost:8080/"
        },
        "id": "sitting-hacker",
        "outputId": "fc7441b4-d583-4585-f383-5daf2f4c6ff5"
      },
      "outputs": [
        {
          "output_type": "stream",
          "name": "stdout",
          "text": [
            "Train Score: 0.9992702004765529\n",
            "Validtions Score: 0.9554285714285714\n",
            "\n",
            "Classification Report: \n",
            "              precision    recall  f1-score   support\n",
            "\n",
            "           0       0.98      0.97      0.97      4214\n",
            "           1       0.87      0.90      0.89      1036\n",
            "\n",
            "    accuracy                           0.96      5250\n",
            "   macro avg       0.93      0.94      0.93      5250\n",
            "weighted avg       0.96      0.96      0.96      5250\n",
            "\n"
          ]
        }
      ],
      "source": [
        "print('Train Score:',extratrees.score(scaled_x_train , y_train))\n",
        "print('Validtions Score:',extratrees.score(scaled_x_val, y_val))\n",
        "y_pred = extratrees.predict(scaled_x_val)\n",
        "clf_report = classification_report(y_val, y_pred)\n",
        "print(f\"\\nClassification Report: \\n{clf_report}\")"
      ],
      "id": "sitting-hacker"
    },
    {
      "cell_type": "code",
      "execution_count": null,
      "metadata": {
        "colab": {
          "base_uri": "https://localhost:8080/",
          "height": 558
        },
        "id": "latest-easter",
        "outputId": "cb83309c-b47d-4a9e-f89a-0be1c2de57b0"
      },
      "outputs": [
        {
          "output_type": "display_data",
          "data": {
            "image/png": "[encoded data removed]",
            "text/plain": [
              "<Figure size 720x576 with 2 Axes>"
            ]
          },
          "metadata": {
            "needs_background": "light"
          }
        }
      ],
      "source": [
        "cnf_matrix = metrics.confusion_matrix(y_val, y_pred)\n",
        "plt.figure(figsize=(10,8))\n",
        "ax= plt.subplot()\n",
        "sns.heatmap(cnf_matrix,annot=True, fmt='.5g', ax=ax,cmap=\"YlGnBu\");\n",
        "plt.rcParams.update({'font.size': 30});\n",
        "ax.set_xlabel('Predicted Values', fontsize=17, color='Black');\n",
        "ax.set_ylabel('Actual Values',fontsize=17, color='Black'); \n",
        "ax.set_title('Confusion Matrix \\n', color='Black', fontsize=23); \n",
        "ax.xaxis.set_ticklabels(['Show', 'No Show'],fontsize=13, color='Black');\n",
        "ax.yaxis.set_ticklabels(['Show', 'No Show'],fontsize=13,color='Black');"
      ],
      "id": "latest-easter"
    },
    {
      "cell_type": "markdown",
      "metadata": {
        "id": "prescription-intranet"
      },
      "source": [
        "<a id='rf'></a>\n",
        "# **5. Random Forest**"
      ],
      "id": "prescription-intranet"
    },
    {
      "cell_type": "code",
      "execution_count": null,
      "metadata": {
        "colab": {
          "base_uri": "https://localhost:8080/"
        },
        "id": "exempt-community",
        "outputId": "f6ea0df4-9cbf-47ba-804e-840a980b419b"
      },
      "outputs": [
        {
          "output_type": "execute_result",
          "data": {
            "text/plain": [
              "RandomForestClassifier()"
            ]
          },
          "metadata": {},
          "execution_count": 60
        }
      ],
      "source": [
        "randomforest = RandomForestClassifier()\n",
        "randomforest.fit(scaled_x_train, y_train)"
      ],
      "id": "exempt-community"
    },
    {
      "cell_type": "code",
      "execution_count": null,
      "metadata": {
        "colab": {
          "base_uri": "https://localhost:8080/"
        },
        "id": "leading-payday",
        "outputId": "c96c3f49-cd29-4d4a-f03d-5c342ee9bf02"
      },
      "outputs": [
        {
          "output_type": "stream",
          "name": "stdout",
          "text": [
            "Train Score: 0.9992702004765529\n",
            "Validtions Score: 0.959047619047619\n",
            "\n",
            "Classification Report: \n",
            "              precision    recall  f1-score   support\n",
            "\n",
            "           0       0.99      0.96      0.97      4214\n",
            "           1       0.86      0.95      0.90      1036\n",
            "\n",
            "    accuracy                           0.96      5250\n",
            "   macro avg       0.92      0.96      0.94      5250\n",
            "weighted avg       0.96      0.96      0.96      5250\n",
            "\n"
          ]
        }
      ],
      "source": [
        "print('Train Score:',randomforest.score(scaled_x_train , y_train))\n",
        "print('Validtions Score:',randomforest.score(scaled_x_val, y_val))\n",
        "y_pred = randomforest.predict(scaled_x_val)\n",
        "clf_report = classification_report(y_val, y_pred)\n",
        "print(f\"\\nClassification Report: \\n{clf_report}\")"
      ],
      "id": "leading-payday"
    },
    {
      "cell_type": "code",
      "execution_count": null,
      "metadata": {
        "colab": {
          "base_uri": "https://localhost:8080/",
          "height": 558
        },
        "id": "light-ceremony",
        "outputId": "f8d491c6-ad17-4903-8838-70821fcc55d4"
      },
      "outputs": [
        {
          "output_type": "display_data",
          "data": {
            "image/png": "[encoded data removed]",
            "text/plain": [
              "<Figure size 720x576 with 2 Axes>"
            ]
          },
          "metadata": {
            "needs_background": "light"
          }
        }
      ],
      "source": [
        "cnf_matrix = metrics.confusion_matrix(y_val, y_pred)\n",
        "plt.figure(figsize=(10,8))\n",
        "ax= plt.subplot()\n",
        "sns.heatmap(cnf_matrix,annot=True, fmt='.5g', ax=ax,cmap=\"YlGnBu\");\n",
        "plt.rcParams.update({'font.size': 30});\n",
        "ax.set_xlabel('Predicted Values', fontsize=17, color='Black');\n",
        "ax.set_ylabel('Actual Values',fontsize=17, color='Black'); \n",
        "ax.set_title('Confusion Matrix \\n', color='Black', fontsize=23); \n",
        "ax.xaxis.set_ticklabels(['Show', 'No Show'],fontsize=13, color='Black');\n",
        "ax.yaxis.set_ticklabels(['Show', 'No Show'],fontsize=13,color='Black');"
      ],
      "id": "light-ceremony"
    },
    {
      "cell_type": "markdown",
      "metadata": {
        "id": "nearby-third"
      },
      "source": [
        "<a id='svm'></a>\n",
        "\n",
        "# **6. Support Vector Machine**"
      ],
      "id": "nearby-third"
    },
    {
      "cell_type": "code",
      "execution_count": null,
      "metadata": {
        "colab": {
          "base_uri": "https://localhost:8080/"
        },
        "id": "handy-cisco",
        "outputId": "002c4915-5acb-4ea8-833c-c2f3524b9a19"
      },
      "outputs": [
        {
          "output_type": "execute_result",
          "data": {
            "text/plain": [
              "SVC()"
            ]
          },
          "metadata": {},
          "execution_count": 63
        }
      ],
      "source": [
        "svm = SVC()\n",
        "svm.fit(scaled_x_train, y_train)"
      ],
      "id": "handy-cisco"
    },
    {
      "cell_type": "code",
      "execution_count": null,
      "metadata": {
        "colab": {
          "base_uri": "https://localhost:8080/"
        },
        "id": "earlier-account",
        "outputId": "62ad51d5-7e61-40b4-e9a5-5ffcb3997ad3"
      },
      "outputs": [
        {
          "output_type": "stream",
          "name": "stdout",
          "text": [
            "Train Score: 0.9633727965668234\n",
            "Validtions Score: 0.9457142857142857\n",
            "\n",
            "Classification Report: \n",
            "              precision    recall  f1-score   support\n",
            "\n",
            "           0       0.99      0.94      0.97      4214\n",
            "           1       0.79      0.98      0.88      1036\n",
            "\n",
            "    accuracy                           0.95      5250\n",
            "   macro avg       0.89      0.96      0.92      5250\n",
            "weighted avg       0.96      0.95      0.95      5250\n",
            "\n"
          ]
        }
      ],
      "source": [
        "print('Train Score:',svm.score(scaled_x_train , y_train))\n",
        "print('Validtions Score:',svm.score(scaled_x_val, y_val))\n",
        "y_pred = svm.predict(scaled_x_val)\n",
        "clf_report = classification_report(y_val, y_pred)\n",
        "print(f\"\\nClassification Report: \\n{clf_report}\")"
      ],
      "id": "earlier-account"
    },
    {
      "cell_type": "code",
      "execution_count": null,
      "metadata": {
        "colab": {
          "base_uri": "https://localhost:8080/",
          "height": 558
        },
        "id": "colored-manual",
        "outputId": "4beb3750-e41a-43b5-a575-bee21af14a3a"
      },
      "outputs": [
        {
          "output_type": "display_data",
          "data": {
            "image/png": "[encoded data removed]",
            "text/plain": [
              "<Figure size 720x576 with 2 Axes>"
            ]
          },
          "metadata": {
            "needs_background": "light"
          }
        }
      ],
      "source": [
        "cnf_matrix = metrics.confusion_matrix(y_val, y_pred)\n",
        "plt.figure(figsize=(10,8))\n",
        "ax= plt.subplot()\n",
        "sns.heatmap(cnf_matrix,annot=True, fmt='.5g', ax=ax,cmap=\"YlGnBu\");\n",
        "plt.rcParams.update({'font.size': 30});\n",
        "ax.set_xlabel('Predicted Values', fontsize=17, color='Black');\n",
        "ax.set_ylabel('Actual Values',fontsize=17, color='Black'); \n",
        "ax.set_title('Confusion Matrix \\n', color='Black', fontsize=23); \n",
        "ax.xaxis.set_ticklabels(['Show', 'No Show'],fontsize=13, color='Black');\n",
        "ax.yaxis.set_ticklabels(['Show', 'No Show'],fontsize=13,color='Black');"
      ],
      "id": "colored-manual"
    },
    {
      "cell_type": "markdown",
      "metadata": {
        "id": "macro-antarctica"
      },
      "source": [
        "<a id='nb'></a>\n",
        "\n",
        "# **7. Naive Bayes (Gaussian)**"
      ],
      "id": "macro-antarctica"
    },
    {
      "cell_type": "code",
      "execution_count": null,
      "metadata": {
        "colab": {
          "base_uri": "https://localhost:8080/"
        },
        "id": "arbitrary-volunteer",
        "outputId": "04ee7e0a-3a75-4c74-8351-e1d7da8087bc"
      },
      "outputs": [
        {
          "output_type": "execute_result",
          "data": {
            "text/plain": [
              "GaussianNB()"
            ]
          },
          "metadata": {},
          "execution_count": 66
        }
      ],
      "source": [
        "gnb = GaussianNB()\n",
        "gnb.fit(scaled_x_train, y_train)"
      ],
      "id": "arbitrary-volunteer"
    },
    {
      "cell_type": "code",
      "execution_count": null,
      "metadata": {
        "colab": {
          "base_uri": "https://localhost:8080/"
        },
        "id": "superior-interaction",
        "outputId": "c3f238d5-c0a9-4d52-8947-d7b5fed372a5"
      },
      "outputs": [
        {
          "output_type": "stream",
          "name": "stdout",
          "text": [
            "Train Score: 0.8083621302660962\n",
            "Validtions Score: 0.8638095238095238\n",
            "\n",
            "Classification Report: \n",
            "              precision    recall  f1-score   support\n",
            "\n",
            "           0       0.93      0.90      0.91      4214\n",
            "           1       0.63      0.73      0.68      1036\n",
            "\n",
            "    accuracy                           0.86      5250\n",
            "   macro avg       0.78      0.81      0.80      5250\n",
            "weighted avg       0.87      0.86      0.87      5250\n",
            "\n"
          ]
        }
      ],
      "source": [
        "print('Train Score:',gnb.score(scaled_x_train , y_train))\n",
        "print('Validtions Score:',gnb.score(scaled_x_val, y_val))\n",
        "y_pred = gnb.predict(scaled_x_val)\n",
        "clf_report = classification_report(y_val, y_pred)\n",
        "print(f\"\\nClassification Report: \\n{clf_report}\")"
      ],
      "id": "superior-interaction"
    },
    {
      "cell_type": "code",
      "execution_count": null,
      "metadata": {
        "colab": {
          "base_uri": "https://localhost:8080/",
          "height": 558
        },
        "id": "southern-outline",
        "outputId": "b691faed-0d17-4a19-881b-f96be7271452"
      },
      "outputs": [
        {
          "output_type": "display_data",
          "data": {
            "image/png": "[encoded data removed]",
            "text/plain": [
              "<Figure size 720x576 with 2 Axes>"
            ]
          },
          "metadata": {
            "needs_background": "light"
          }
        }
      ],
      "source": [
        "cnf_matrix = metrics.confusion_matrix(y_val, y_pred)\n",
        "plt.figure(figsize=(10,8))\n",
        "ax= plt.subplot()\n",
        "sns.heatmap(cnf_matrix,annot=True, fmt='.5g', ax=ax,cmap=\"YlGnBu\");\n",
        "plt.rcParams.update({'font.size': 30});\n",
        "ax.set_xlabel('Predicted Values', fontsize=17, color='Black');\n",
        "ax.set_ylabel('Actual Values',fontsize=17, color='Black'); \n",
        "ax.set_title('Confusion Matrix \\n', color='Black', fontsize=23); \n",
        "ax.xaxis.set_ticklabels(['Show', 'No Show'],fontsize=13, color='Black');\n",
        "ax.yaxis.set_ticklabels(['Show', 'No Show'],fontsize=13,color='Black');"
      ],
      "id": "southern-outline"
    },
    {
      "cell_type": "markdown",
      "metadata": {
        "id": "generous-sweet"
      },
      "source": [
        "<a id='nbm'></a>\n",
        "\n",
        "# **8. Naive Bayes (MultinomialNB)**"
      ],
      "id": "generous-sweet"
    },
    {
      "cell_type": "code",
      "execution_count": null,
      "metadata": {
        "colab": {
          "base_uri": "https://localhost:8080/"
        },
        "id": "premier-electric",
        "outputId": "06d3ec46-7200-4c43-9373-b788e946f00b"
      },
      "outputs": [
        {
          "output_type": "execute_result",
          "data": {
            "text/plain": [
              "BernoulliNB()"
            ]
          },
          "metadata": {},
          "execution_count": 69
        }
      ],
      "source": [
        "bnb = BernoulliNB()\n",
        "bnb.fit(scaled_x_train, y_train)"
      ],
      "id": "premier-electric"
    },
    {
      "cell_type": "code",
      "execution_count": null,
      "metadata": {
        "colab": {
          "base_uri": "https://localhost:8080/"
        },
        "id": "fifteen-ecuador",
        "outputId": "e290b1b6-15c4-46af-c8e7-9a20215dbfe2"
      },
      "outputs": [
        {
          "output_type": "stream",
          "name": "stdout",
          "text": [
            "Train Score: 0.9331453735700296\n",
            "Validtions Score: 0.8929523809523809\n",
            "\n",
            "Classification Report: \n",
            "              precision    recall  f1-score   support\n",
            "\n",
            "           0       1.00      0.87      0.93      4214\n",
            "           1       0.65      0.99      0.78      1036\n",
            "\n",
            "    accuracy                           0.89      5250\n",
            "   macro avg       0.82      0.93      0.86      5250\n",
            "weighted avg       0.93      0.89      0.90      5250\n",
            "\n"
          ]
        }
      ],
      "source": [
        "print('Train Score:',bnb.score(scaled_x_train , y_train))\n",
        "print('Validtions Score:',bnb.score(scaled_x_val, y_val))\n",
        "y_pred = bnb.predict(scaled_x_val)\n",
        "clf_report = classification_report(y_val, y_pred)\n",
        "print(f\"\\nClassification Report: \\n{clf_report}\")"
      ],
      "id": "fifteen-ecuador"
    },
    {
      "cell_type": "code",
      "execution_count": null,
      "metadata": {
        "colab": {
          "base_uri": "https://localhost:8080/",
          "height": 558
        },
        "id": "molecular-fleece",
        "outputId": "ccd1e386-55ae-4072-ab56-885f39c64fd6"
      },
      "outputs": [
        {
          "output_type": "display_data",
          "data": {
            "image/png": "[encoded data removed]",
            "text/plain": [
              "<Figure size 720x576 with 2 Axes>"
            ]
          },
          "metadata": {
            "needs_background": "light"
          }
        }
      ],
      "source": [
        "cnf_matrix = metrics.confusion_matrix(y_val, y_pred)\n",
        "plt.figure(figsize=(10,8))\n",
        "ax= plt.subplot()\n",
        "sns.heatmap(cnf_matrix,annot=True, fmt='.5g', ax=ax,cmap=\"YlGnBu\");\n",
        "plt.rcParams.update({'font.size': 30});\n",
        "ax.set_xlabel('Predicted Values', fontsize=17, color='Black');\n",
        "ax.set_ylabel('Actual Values',fontsize=17, color='Black'); \n",
        "ax.set_title('Confusion Matrix \\n', color='Black', fontsize=23); \n",
        "ax.xaxis.set_ticklabels(['Show', 'No Show'],fontsize=13, color='Black');\n",
        "ax.yaxis.set_ticklabels(['Show', 'No Show'],fontsize=13,color='Black');"
      ],
      "id": "molecular-fleece"
    },
    {
      "cell_type": "markdown",
      "metadata": {
        "id": "FBBO6nq1bMy-"
      },
      "source": [
        "<a id='xg'></a>\n",
        "\n",
        "# **9. XGBoost**"
      ],
      "id": "FBBO6nq1bMy-"
    },
    {
      "cell_type": "code",
      "execution_count": null,
      "metadata": {
        "id": "working-webster"
      },
      "outputs": [],
      "source": [
        "gbm = xgb.XGBClassifier( \n",
        "                        n_estimators=30000,\n",
        "                        max_depth=4,\n",
        "                        objective='binary:logistic', \n",
        "                        learning_rate=.05, \n",
        "                        subsample=.8,\n",
        "                        min_child_weight=3,\n",
        "                        colsample_bytree=.8\n",
        "                       )\n",
        "\n",
        "eval_set=[(scaled_x_train,y_train),(scaled_x_val,y_val)]\n",
        "fit_model = gbm.fit( \n",
        "                    scaled_x_train, y_train, \n",
        "                    eval_set=eval_set,\n",
        "                    eval_metric='error', \n",
        "                    early_stopping_rounds=50,\n",
        "                    verbose=False\n",
        "                   )"
      ],
      "id": "working-webster"
    },
    {
      "cell_type": "code",
      "execution_count": null,
      "metadata": {
        "colab": {
          "base_uri": "https://localhost:8080/"
        },
        "id": "confirmed-disposal",
        "outputId": "bc4869b2-966d-47bc-8686-bf989b103169"
      },
      "outputs": [
        {
          "output_type": "stream",
          "name": "stdout",
          "text": [
            "Train Score: 0.9691488167267556\n",
            "Validtions Score: 0.9499047619047619\n",
            "\n",
            "Classification Report: \n",
            "              precision    recall  f1-score   support\n",
            "\n",
            "           0       1.00      0.94      0.97      4214\n",
            "           1       0.80      0.99      0.89      1036\n",
            "\n",
            "    accuracy                           0.95      5250\n",
            "   macro avg       0.90      0.97      0.93      5250\n",
            "weighted avg       0.96      0.95      0.95      5250\n",
            "\n"
          ]
        }
      ],
      "source": [
        "print('Train Score:',fit_model.score(scaled_x_train , y_train))\n",
        "print('Validtions Score:',fit_model.score(scaled_x_val, y_val))\n",
        "y_pred = fit_model.predict(scaled_x_val)\n",
        "clf_report = classification_report(y_val, y_pred)\n",
        "print(f\"\\nClassification Report: \\n{clf_report}\")"
      ],
      "id": "confirmed-disposal"
    },
    {
      "cell_type": "code",
      "execution_count": null,
      "metadata": {
        "colab": {
          "base_uri": "https://localhost:8080/",
          "height": 558
        },
        "id": "GGNe2fCYbFwO",
        "outputId": "a1019c1e-d90a-4778-ad0d-84694eca3dfb"
      },
      "outputs": [
        {
          "output_type": "display_data",
          "data": {
            "image/png": "[encoded data removed]",
            "text/plain": [
              "<Figure size 720x576 with 2 Axes>"
            ]
          },
          "metadata": {
            "needs_background": "light"
          }
        }
      ],
      "source": [
        "cnf_matrix = metrics.confusion_matrix(y_val, y_pred)\n",
        "plt.figure(figsize=(10,8))\n",
        "ax= plt.subplot()\n",
        "sns.heatmap(cnf_matrix,annot=True, fmt='.5g', ax=ax,cmap=\"YlGnBu\");\n",
        "plt.rcParams.update({'font.size': 30});\n",
        "ax.set_xlabel('Predicted Values', fontsize=17, color='Black');\n",
        "ax.set_ylabel('Actual Values',fontsize=17, color='Black'); \n",
        "ax.set_title('Confusion Matrix \\n', color='Black', fontsize=23); \n",
        "ax.xaxis.set_ticklabels(['Show', 'No Show'],fontsize=13, color='Black');\n",
        "ax.yaxis.set_ticklabels(['Show', 'No Show'],fontsize=13,color='Black');"
      ],
      "id": "GGNe2fCYbFwO"
    },
    {
      "cell_type": "markdown",
      "metadata": {
        "id": "737b2ca6"
      },
      "source": [
        "<a id='gs'></a>\n",
        "\n",
        "# **Grid Search**"
      ],
      "id": "737b2ca6"
    },
    {
      "cell_type": "code",
      "execution_count": null,
      "metadata": {
        "colab": {
          "base_uri": "https://localhost:8080/"
        },
        "id": "VsRzyBcT51fh",
        "outputId": "b35d1834-e09b-498d-8e26-c3e3c97db99a"
      },
      "outputs": [
        {
          "output_type": "stream",
          "name": "stdout",
          "text": [
            "Fitting 5 folds for each of 27 candidates, totalling 135 fits\n",
            "Best params:  {'learning_rate': 0.1, 'max_depth': 25, 'n_estimators': 500}\n",
            "Best estimator:  XGBClassifier(max_depth=25, n_estimators=500)\n",
            "Best score:  0.9819670949558326\n"
          ]
        }
      ],
      "source": [
        "estimator = xgb.XGBClassifier(\n",
        "    objective= 'binary:logistic'\n",
        ")\n",
        "\n",
        "\n",
        "parameters = {\n",
        "    'max_depth': [5, 15, 25],\n",
        "    'n_estimators': [100, 300, 500],\n",
        "    'learning_rate': [0.1, 0.01, 0.05]\n",
        "}\n",
        "\n",
        "\n",
        "grid_search = GridSearchCV(\n",
        "    estimator=estimator,\n",
        "    param_grid=parameters,\n",
        "    n_jobs = -1,\n",
        "    verbose=1\n",
        ")\n",
        "\n",
        "\n",
        "grid_search.fit(scaled_x_train, y_train)\n",
        "\n",
        "print(\"Best params: \", grid_search.best_params_)\n",
        "print(\"Best estimator: \", grid_search.best_estimator_)\n",
        "print(\"Best score: \", grid_search.best_score_)"
      ],
      "id": "VsRzyBcT51fh"
    },
    {
      "cell_type": "markdown",
      "metadata": {
        "id": "VoDtKDVXsyK1"
      },
      "source": [
        "<a id='gs1'></a>\n",
        "\n",
        "**XGBoost (Hyper Parameter Tuning)**"
      ],
      "id": "VoDtKDVXsyK1"
    },
    {
      "cell_type": "code",
      "execution_count": null,
      "metadata": {
        "colab": {
          "base_uri": "https://localhost:8080/"
        },
        "id": "A45dyCHHswzk",
        "outputId": "da091b5e-6454-4595-ee33-3d5cc28c0e43"
      },
      "outputs": [
        {
          "output_type": "execute_result",
          "data": {
            "text/plain": [
              "XGBClassifier(max_depth=25, n_estimators=500)"
            ]
          },
          "metadata": {},
          "execution_count": 81
        }
      ],
      "source": [
        "tuning = xgb.XGBClassifier(\n",
        "                          objective='binary:logistic', \n",
        "                          max_depth=25, \n",
        "                          n_estimators=500,\n",
        "                           learning_rate=0.1\n",
        "                       )\n",
        "\n",
        "tuning.fit(scaled_x_train, y_train)"
      ],
      "id": "A45dyCHHswzk"
    },
    {
      "cell_type": "code",
      "execution_count": null,
      "metadata": {
        "colab": {
          "base_uri": "https://localhost:8080/"
        },
        "id": "ghlx79Jdsw1o",
        "outputId": "4cb532b8-03ef-4438-f886-867df95257cf"
      },
      "outputs": [
        {
          "output_type": "stream",
          "name": "stdout",
          "text": [
            "Train Score: 0.9992514876682593\n",
            "Validtions Score: 0.96\n",
            "\n",
            "Classification Report: \n",
            "              precision    recall  f1-score   support\n",
            "\n",
            "           0       0.99      0.96      0.97      4214\n",
            "           1       0.87      0.94      0.90      1036\n",
            "\n",
            "    accuracy                           0.96      5250\n",
            "   macro avg       0.93      0.95      0.94      5250\n",
            "weighted avg       0.96      0.96      0.96      5250\n",
            "\n"
          ]
        }
      ],
      "source": [
        "print('Train Score:',tuning.score(scaled_x_train , y_train))\n",
        "print('Validtions Score:',tuning.score(scaled_x_val, y_val))\n",
        "y_pred = tuning.predict(scaled_x_val)\n",
        "clf_report = classification_report(y_val, y_pred)\n",
        "print(f\"\\nClassification Report: \\n{clf_report}\")"
      ],
      "id": "ghlx79Jdsw1o"
    },
    {
      "cell_type": "code",
      "execution_count": null,
      "metadata": {
        "colab": {
          "base_uri": "https://localhost:8080/",
          "height": 558
        },
        "id": "tTDeCr_qsw5V",
        "outputId": "177193b7-4317-4458-b2d8-7d579fb8f47d"
      },
      "outputs": [
        {
          "output_type": "display_data",
          "data": {
            "image/png": "[encoded data removed]",
            "text/plain": [
              "<Figure size 720x576 with 2 Axes>"
            ]
          },
          "metadata": {
            "needs_background": "light"
          }
        }
      ],
      "source": [
        "cnf_matrix = metrics.confusion_matrix(y_val, y_pred)\n",
        "plt.figure(figsize=(10,8))\n",
        "ax= plt.subplot()\n",
        "sns.heatmap(cnf_matrix,annot=True, fmt='.5g', ax=ax,cmap=\"YlGnBu\");\n",
        "plt.rcParams.update({'font.size': 30});\n",
        "ax.set_xlabel('Predicted Values', fontsize=17, color='Black');\n",
        "ax.set_ylabel('Actual Values',fontsize=17, color='Black'); \n",
        "ax.set_title('Confusion Matrix \\n', color='Black', fontsize=23); \n",
        "ax.xaxis.set_ticklabels(['Show', 'No Show'],fontsize=13, color='Black');\n",
        "ax.yaxis.set_ticklabels(['Show', 'No Show'],fontsize=13,color='Black');"
      ],
      "id": "tTDeCr_qsw5V"
    },
    {
      "cell_type": "markdown",
      "metadata": {
        "id": "improved-switch"
      },
      "source": [
        "<a id='fff'></a>\n",
        "\n",
        "\n",
        "# **Final Model Testing**"
      ],
      "id": "improved-switch"
    },
    {
      "cell_type": "code",
      "execution_count": null,
      "metadata": {
        "id": "elegant-laptop"
      },
      "outputs": [],
      "source": [
        "X_train_val = pd.concat([X_train, X_val])\n",
        "y_train_val = pd.concat([y_train, y_val])"
      ],
      "id": "elegant-laptop"
    },
    {
      "cell_type": "code",
      "execution_count": null,
      "metadata": {
        "colab": {
          "base_uri": "https://localhost:8080/"
        },
        "id": "organized-giving",
        "outputId": "9c8e3487-d095-4cb0-bcf6-9333ec5af46d"
      },
      "outputs": [
        {
          "output_type": "execute_result",
          "data": {
            "text/plain": [
              "XGBClassifier(max_depth=25, n_estimators=500)"
            ]
          },
          "metadata": {},
          "execution_count": 87
        }
      ],
      "source": [
        "finalmodel = xgb.XGBClassifier(\n",
        "                          objective='binary:logistic', \n",
        "                          max_depth=25, \n",
        "                          n_estimators=500,\n",
        "                           learning_rate=0.1\n",
        "                       )\n",
        "                       \n",
        "finalmodel.fit(X_train_val, y_train_val)"
      ],
      "id": "organized-giving"
    },
    {
      "cell_type": "code",
      "execution_count": null,
      "metadata": {
        "colab": {
          "base_uri": "https://localhost:8080/"
        },
        "id": "L4MObpkX4eoH",
        "outputId": "7c95304a-1aed-44ea-a551-5d35cab084e3"
      },
      "outputs": [
        {
          "output_type": "stream",
          "name": "stdout",
          "text": [
            "Train Score: 0.999214824120603\n",
            "Test Score: 0.9668898136421205\n",
            "\n",
            "Classification Report: \n",
            "              precision    recall  f1-score   support\n",
            "\n",
            "           0       0.98      0.98      0.98      4438\n",
            "           1       0.90      0.93      0.92      1089\n",
            "\n",
            "    accuracy                           0.97      5527\n",
            "   macro avg       0.94      0.95      0.95      5527\n",
            "weighted avg       0.97      0.97      0.97      5527\n",
            "\n"
          ]
        }
      ],
      "source": [
        "print('Train Score:',finalmodel.score(X_train_val , y_train_val))\n",
        "print('Test Score:',finalmodel.score(X_test, y_test))\n",
        "y_pred = finalmodel.predict(X_test)\n",
        "clf_report = classification_report(y_test, y_pred)\n",
        "print(f\"\\nClassification Report: \\n{clf_report}\")"
      ],
      "id": "L4MObpkX4eoH"
    },
    {
      "cell_type": "code",
      "execution_count": null,
      "metadata": {
        "colab": {
          "base_uri": "https://localhost:8080/",
          "height": 558
        },
        "id": "collectible-salvation",
        "outputId": "9b24aad2-5ab8-4ac4-e6ef-2c2272ecb1ef"
      },
      "outputs": [
        {
          "output_type": "display_data",
          "data": {
            "image/png": "[encoded data removed]",
            "text/plain": [
              "<Figure size 720x576 with 2 Axes>"
            ]
          },
          "metadata": {
            "needs_background": "light"
          }
        }
      ],
      "source": [
        "cnf_matrix = metrics.confusion_matrix(y_test, y_pred)\n",
        "plt.figure(figsize=(10,8))\n",
        "ax= plt.subplot()\n",
        "sns.heatmap(cnf_matrix,annot=True, fmt='.5g', ax=ax,cmap=\"YlGnBu\");\n",
        "ax.set_xlabel('Predicted Values', fontsize=17, color='Black');\n",
        "ax.set_ylabel('Actual Values',fontsize=17, color='Black'); \n",
        "ax.set_title('Confusion Matrix \\n', color='Black', fontsize=23); \n",
        "ax.xaxis.set_ticklabels(['Show', 'No Show'],fontsize=13, color='Black');\n",
        "ax.yaxis.set_ticklabels(['Show', 'No Show'],fontsize=13,color='Black');"
      ],
      "id": "collectible-salvation"
    },
    {
      "cell_type": "code",
      "execution_count": null,
      "metadata": {
        "colab": {
          "base_uri": "https://localhost:8080/",
          "height": 318
        },
        "id": "ytujbxYl_R3q",
        "outputId": "13b8bf15-7e09-4025-c9ca-3b599845f39e"
      },
      "outputs": [
        {
          "output_type": "display_data",
          "data": {
            "image/png": "[encoded data removed]",
            "text/plain": [
              "<Figure size 432x288 with 1 Axes>"
            ]
          },
          "metadata": {
            "needs_background": "dark"
          }
        }
      ],
      "source": [
        "y_pred_proba = finalmodel.predict_proba(X_test)[::,1]\n",
        "fpr, tpr, _ = metrics.roc_curve(y_test,  y_pred_proba)\n",
        "auc = metrics.roc_auc_score(y_test, y_pred_proba)\n",
        "plt.xticks(color='White')\n",
        "plt.yticks(color='White')\n",
        "plt.xlabel('False Positive Rate')\n",
        "plt.ylabel('True Positive Rate')\n",
        "plt.rcParams.update({'font.size': 12});\n",
        "plt.title('ROC for Random Forest model', fontsize=20)    \n",
        "plt.plot(fpr,tpr,label=\" auc=\"+str(auc))\n",
        "plt.legend(loc=4)\n",
        "plt.show();"
      ],
      "id": "ytujbxYl_R3q"
    }
  ],
  "metadata": {
    "colab": {
      "collapsed_sections": [],
      "name": "Code_Medical_appointment.ipynb",
      "provenance": []
    },
    "kernelspec": {
      "display_name": "Python 3",
      "language": "python",
      "name": "python3"
    },
    "language_info": {
      "codemirror_mode": {
        "name": "ipython",
        "version": 3
      },
      "file_extension": ".py",
      "mimetype": "text/x-python",
      "name": "python",
      "nbconvert_exporter": "python",
      "pygments_lexer": "ipython3",
      "version": "3.8.5"
    }
  },
  "nbformat": 4,
  "nbformat_minor": 5
}